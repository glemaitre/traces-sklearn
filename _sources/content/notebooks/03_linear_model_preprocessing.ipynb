{
 "cells": [
  {
   "cell_type": "markdown",
   "id": "5726ec12",
   "metadata": {},
   "source": [
    "\n",
    "# Data preprocessing\n",
    "\n",
    "This notebook explores preprocessing requirements for linear models.\n",
    "\n",
    "## Numerical features\n",
    "\n",
    "Linear models are sensitive to data scale. While we did not preprocess data in the\n",
    "previous notebook, we should understand this sensitivity.\n",
    "\n",
    "Let's examine a simple example."
   ]
  },
  {
   "cell_type": "code",
   "execution_count": null,
   "id": "7e406cbc",
   "metadata": {},
   "outputs": [],
   "source": [
    "# When using JupyterLite, you will need to uncomment and install the `skrub` package.\n",
    "%pip install skrub\n",
    "import matplotlib.pyplot as plt\n",
    "import skrub\n",
    "\n",
    "skrub.patch_display()  # make nice display for pandas tables"
   ]
  },
  {
   "cell_type": "code",
   "execution_count": null,
   "id": "4159b675",
   "metadata": {},
   "outputs": [],
   "source": [
    "from sklearn.datasets import load_iris\n",
    "\n",
    "data, target = load_iris(return_X_y=True, as_frame=True)\n",
    "data"
   ]
  },
  {
   "cell_type": "code",
   "execution_count": null,
   "id": "4087d128",
   "metadata": {},
   "outputs": [],
   "source": [
    "from sklearn.linear_model import LogisticRegression\n",
    "\n",
    "model = LogisticRegression()\n",
    "model.fit(data, target)"
   ]
  },
  {
   "cell_type": "markdown",
   "id": "a6c0aa29",
   "metadata": {},
   "source": [
    "\n",
    "The model raises a `ConvergenceWarning`. This indicates that it did not find weights\n",
    "that minimize the loss function.\n",
    "\n",
    "**EXERCISE**\n",
    "\n",
    "1. `LogisticRegression` uses an LBFGS solver that iterates to find a solution. Check\n",
    "   how many iterations it took and compare with the default in the documentation.\n",
    "2. Increase the number of iterations. Find the minimum number needed to avoid the\n",
    "   convergence warning.\n",
    "3. Instead of increasing iterations, scale the data with `StandardScaler` before\n",
    "   fitting. Note the new iteration count."
   ]
  },
  {
   "cell_type": "code",
   "execution_count": null,
   "id": "64ec1214",
   "metadata": {},
   "outputs": [],
   "source": [
    "# Write your code here."
   ]
  },
  {
   "cell_type": "markdown",
   "id": "acd73467",
   "metadata": {},
   "source": [
    "\n",
    "We did not split the data into training and testing sets in the previous exercise."
   ]
  },
  {
   "cell_type": "code",
   "execution_count": null,
   "id": "9d03bda5",
   "metadata": {},
   "outputs": [],
   "source": [
    "from sklearn.model_selection import train_test_split\n",
    "\n",
    "data_train, data_test, target_train, target_test = train_test_split(\n",
    "    data, target, random_state=42\n",
    ")"
   ]
  },
  {
   "cell_type": "markdown",
   "id": "687e709c",
   "metadata": {},
   "source": [
    "\n",
    "Scikit-learn's `Pipeline` is a powerful tool that chains transformations and a final\n",
    "estimator. We can connect a `StandardScaler` and `LogisticRegression` like this:"
   ]
  },
  {
   "cell_type": "code",
   "execution_count": null,
   "id": "58900078",
   "metadata": {},
   "outputs": [],
   "source": [
    "from sklearn.pipeline import Pipeline\n",
    "from sklearn.preprocessing import StandardScaler\n",
    "\n",
    "model = Pipeline(\n",
    "    steps=[(\"scaler\", StandardScaler()), (\"logistic_regression\", LogisticRegression())]\n",
    ")\n",
    "model.fit(data_train, target_train)"
   ]
  },
  {
   "cell_type": "code",
   "execution_count": null,
   "id": "addfc2e5",
   "metadata": {},
   "outputs": [],
   "source": [
    "print(f\"Feature mean on training set: {model[0].mean_}\")\n",
    "print(f\"Feature standard deviation on training set: {model[0].scale_}\")"
   ]
  },
  {
   "cell_type": "code",
   "execution_count": null,
   "id": "2994217c",
   "metadata": {},
   "outputs": [],
   "source": [
    "print(f\"Number of iterations: {model[-1].n_iter_}\")"
   ]
  },
  {
   "cell_type": "markdown",
   "id": "1158b0c6",
   "metadata": {},
   "source": [
    "\n",
    "**EXERCISE**\n",
    "\n",
    "The output shows that `StandardScaler` computed feature means and standard deviations\n",
    "from the training set. It uses these statistics to center and scale data before\n",
    "passing it to `LogisticRegression`.\n",
    "\n",
    "How do you think `StandardScaler` behaves on the test set? Consider this code:"
   ]
  },
  {
   "cell_type": "code",
   "execution_count": null,
   "id": "0e02767f",
   "metadata": {},
   "outputs": [],
   "source": [
    "from sklearn.metrics import accuracy_score\n",
    "\n",
    "predicted_target = model.predict(data_test)\n",
    "\n",
    "print(f\"Accuracy on testing set: {accuracy_score(target_test, predicted_target):.3f}\")"
   ]
  },
  {
   "cell_type": "markdown",
   "id": "c7f081da",
   "metadata": {},
   "source": [
    "\n",
    "## Categorical features\n",
    "\n",
    "We've shown how linear models benefit from feature scaling. Now let's examine\n",
    "categorical features using the penguins dataset."
   ]
  },
  {
   "cell_type": "code",
   "execution_count": null,
   "id": "3a426f81",
   "metadata": {},
   "outputs": [],
   "source": [
    "import pandas as pd\n",
    "\n",
    "penguins = pd.read_csv(\"../datasets/penguins.csv\")\n",
    "penguins"
   ]
  },
  {
   "cell_type": "markdown",
   "id": "0422ec34",
   "metadata": {},
   "source": [
    "\n",
    "Categorical features take discrete values. Here's an example from the penguins dataset:"
   ]
  },
  {
   "cell_type": "code",
   "execution_count": null,
   "id": "dda96653",
   "metadata": {},
   "outputs": [],
   "source": [
    "penguins[\"Sex\"]"
   ]
  },
  {
   "cell_type": "code",
   "execution_count": null,
   "id": "a60c7e12",
   "metadata": {},
   "outputs": [],
   "source": [
    "penguins[\"Sex\"].value_counts()"
   ]
  },
  {
   "cell_type": "markdown",
   "id": "36ef39e3",
   "metadata": {},
   "source": [
    "\n",
    "These categories use non-numeric values. Models cannot process them directly, so we\n",
    "must convert categories to numbers.\n",
    "\n",
    "We can use two main strategies:\n",
    "\n",
    "- **Ordinal encoding**: Assigns a numeric value to each category\n",
    "- **One-hot encoding**: Creates binary features for each category"
   ]
  },
  {
   "cell_type": "code",
   "execution_count": null,
   "id": "6ccddc34",
   "metadata": {},
   "outputs": [],
   "source": [
    "from sklearn.preprocessing import OneHotEncoder\n",
    "\n",
    "encoder = OneHotEncoder(sparse_output=False).set_output(transform=\"pandas\")\n",
    "encoder.fit_transform(penguins[[\"Sex\"]])"
   ]
  },
  {
   "cell_type": "code",
   "execution_count": null,
   "id": "58d7255f",
   "metadata": {},
   "outputs": [],
   "source": [
    "from sklearn.preprocessing import OrdinalEncoder\n",
    "\n",
    "encoder = OrdinalEncoder().set_output(transform=\"pandas\")\n",
    "encoder.fit_transform(penguins[[\"Sex\"]])"
   ]
  },
  {
   "cell_type": "markdown",
   "id": "4b421ee9",
   "metadata": {},
   "source": [
    "\n",
    "**EXERCISE**\n",
    "\n",
    "1. List advantages and disadvantages of both encoding strategies\n",
    "2. Create a `Pipeline` that chains an encoder with a `LogisticRegression` model\n",
    "3. Use cross-validation to evaluate model performance"
   ]
  },
  {
   "cell_type": "code",
   "execution_count": null,
   "id": "50878a6c",
   "metadata": {},
   "outputs": [],
   "source": [
    "# Write your code here."
   ]
  },
  {
   "cell_type": "markdown",
   "id": "5aa9ed79",
   "metadata": {},
   "source": [
    "\n",
    "## Combine numerical and categorical features\n",
    "\n",
    "Scikit-learn's `ColumnTransformer` helps us handle both numerical and categorical\n",
    "features. Let's prepare our dataset:"
   ]
  },
  {
   "cell_type": "code",
   "execution_count": null,
   "id": "3a61347a",
   "metadata": {},
   "outputs": [],
   "source": [
    "categorical_features = [\"Island\", \"Sex\"]\n",
    "numerical_features = [\"Culmen Length (mm)\", \"Culmen Depth (mm)\"]\n",
    "target_name = \"Species\""
   ]
  },
  {
   "cell_type": "code",
   "execution_count": null,
   "id": "d1a06802",
   "metadata": {},
   "outputs": [],
   "source": [
    "data = penguins[categorical_features + numerical_features]\n",
    "target = penguins[target_name]\n",
    "data"
   ]
  },
  {
   "cell_type": "markdown",
   "id": "42f54187",
   "metadata": {},
   "source": [
    "\n",
    "Our data contains missing values. For now, we'll simply drop rows with missing values\n",
    "in both data and target. We'll address this topic more thoroughly in the next section."
   ]
  },
  {
   "cell_type": "code",
   "execution_count": null,
   "id": "f6587583",
   "metadata": {},
   "outputs": [],
   "source": [
    "data = data.dropna()\n",
    "target = target.loc[data.index]"
   ]
  },
  {
   "cell_type": "code",
   "execution_count": null,
   "id": "36eb01e1",
   "metadata": {},
   "outputs": [],
   "source": [
    "data_train, data_test, target_train, target_test = train_test_split(\n",
    "    data, target, random_state=42\n",
    ")"
   ]
  },
  {
   "cell_type": "code",
   "execution_count": null,
   "id": "ce67f068",
   "metadata": {},
   "outputs": [],
   "source": [
    "from sklearn.compose import ColumnTransformer\n",
    "\n",
    "preprocessor = ColumnTransformer(\n",
    "    transformers=[\n",
    "        (\"numerical\", StandardScaler(), numerical_features),\n",
    "        (\"categorical\", OneHotEncoder(), categorical_features),\n",
    "    ]\n",
    ")\n",
    "preprocessor"
   ]
  },
  {
   "cell_type": "markdown",
   "id": "b5ec3449",
   "metadata": {},
   "source": [
    "\n",
    "The `ColumnTransformer` splits columns and sends each subset to its appropriate\n",
    "transformer.\n",
    "\n",
    "We can chain it with `LogisticRegression`:"
   ]
  },
  {
   "cell_type": "code",
   "execution_count": null,
   "id": "a53228dd",
   "metadata": {},
   "outputs": [],
   "source": [
    "model = Pipeline(\n",
    "    steps=[\n",
    "        (\"preprocessor\", preprocessor),\n",
    "        (\"logistic_regression\", LogisticRegression()),\n",
    "    ]\n",
    ")\n",
    "model"
   ]
  },
  {
   "cell_type": "code",
   "execution_count": null,
   "id": "51bb839c",
   "metadata": {},
   "outputs": [],
   "source": [
    "model.fit(data_train, target_train)"
   ]
  },
  {
   "cell_type": "code",
   "execution_count": null,
   "id": "da4a313c",
   "metadata": {},
   "outputs": [],
   "source": [
    "predicted_target = model.predict(data_test)\n",
    "print(f\"Accuracy: {accuracy_score(target_test, predicted_target):.3f}\")"
   ]
  },
  {
   "cell_type": "markdown",
   "id": "cc70efda",
   "metadata": {},
   "source": [
    "\n",
    "## Dealing with missing values\n",
    "\n",
    "Let's reload our dataset with missing values intact:"
   ]
  },
  {
   "cell_type": "code",
   "execution_count": null,
   "id": "e2d0b3fb",
   "metadata": {},
   "outputs": [],
   "source": [
    "categorical_features = [\"Island\", \"Sex\"]\n",
    "numerical_features = [\"Culmen Length (mm)\", \"Culmen Depth (mm)\"]\n",
    "target_name = \"Species\""
   ]
  },
  {
   "cell_type": "code",
   "execution_count": null,
   "id": "0d0c4c86",
   "metadata": {},
   "outputs": [],
   "source": [
    "data = penguins[categorical_features + numerical_features]\n",
    "target = penguins[target_name]\n",
    "data"
   ]
  },
  {
   "cell_type": "code",
   "execution_count": null,
   "id": "8515c98a",
   "metadata": {},
   "outputs": [],
   "source": [
    "data_train, data_test, target_train, target_test = train_test_split(\n",
    "    data, target, random_state=42\n",
    ")"
   ]
  },
  {
   "cell_type": "markdown",
   "id": "8783562a",
   "metadata": {},
   "source": [
    "\n",
    "Try fitting the previous model again. What happens?"
   ]
  },
  {
   "cell_type": "code",
   "execution_count": null,
   "id": "f72fb515",
   "metadata": {},
   "outputs": [],
   "source": [
    "# Write your code here."
   ]
  },
  {
   "cell_type": "markdown",
   "id": "06c41937",
   "metadata": {},
   "source": [
    "\n",
    "Models that don't handle missing values need imputation - replacing missing values\n",
    "with computed values from the data.\n",
    "\n",
    "**EXERCISE**\n",
    "\n",
    "Build a model that chains `ColumnTransformer`, `SimpleImputer`, and\n",
    "`LogisticRegression`."
   ]
  },
  {
   "cell_type": "code",
   "execution_count": null,
   "id": "0e869a24",
   "metadata": {},
   "outputs": [],
   "source": [
    "# Write your code here."
   ]
  },
  {
   "cell_type": "markdown",
   "id": "ecc62eff",
   "metadata": {},
   "source": [
    "\n",
    "## `skrub` to help you out\n",
    "\n",
    "The `skrub` library offers utilities for baseline preprocessing. Use `tabular_learner`\n",
    "to quickly build a pipeline:"
   ]
  },
  {
   "cell_type": "code",
   "execution_count": null,
   "id": "8cdbd509",
   "metadata": {},
   "outputs": [],
   "source": [
    "model = skrub.tabular_learner(estimator=LogisticRegression())\n",
    "model"
   ]
  },
  {
   "cell_type": "code",
   "execution_count": null,
   "id": "07843472",
   "metadata": {},
   "outputs": [],
   "source": [
    "model.fit(data_train, target_train)"
   ]
  },
  {
   "cell_type": "code",
   "execution_count": null,
   "id": "bcff8958",
   "metadata": {},
   "outputs": [],
   "source": [
    "predicted_target = model.predict(data_test)\n",
    "print(f\"Accuracy: {accuracy_score(target_test, predicted_target):.3f}\")"
   ]
  }
 ],
 "metadata": {
  "jupytext": {
   "cell_metadata_filter": "-all",
   "main_language": "python",
   "notebook_metadata_filter": "-all"
  }
 },
 "nbformat": 4,
 "nbformat_minor": 5
}
