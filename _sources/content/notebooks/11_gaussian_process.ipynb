{
 "cells": [
  {
   "cell_type": "markdown",
   "id": "88776d0c",
   "metadata": {},
   "source": [
    "\n",
    "# Gaussian process\n",
    "\n",
    "All models we have encountered so far provide a point-estimate during prediction.\n",
    "However, none of these models (except `QuantileRegression`) provide confidence\n",
    "intervals for their predictions.\n",
    "\n",
    "Gaussian Process models allow us to obtain such information. In this notebook, we\n",
    "present how these models differ from the ones we already covered.\n",
    "\n",
    "Let's start by generating a toy dataset."
   ]
  },
  {
   "cell_type": "code",
   "execution_count": null,
   "id": "5971d540",
   "metadata": {},
   "outputs": [],
   "source": [
    "# When using JupyterLite, uncomment and install the `skrub` package.\n",
    "%pip install skrub\n",
    "import matplotlib.pyplot as plt\n",
    "import skrub\n",
    "\n",
    "skrub.patch_display()  # makes nice display for pandas tables"
   ]
  },
  {
   "cell_type": "code",
   "execution_count": null,
   "id": "cff1f5ba",
   "metadata": {},
   "outputs": [],
   "source": [
    "import numpy as np\n",
    "\n",
    "X = np.linspace(start=0, stop=10, num=1_000).reshape(-1, 1)\n",
    "y = np.squeeze(X * np.sin(X))"
   ]
  },
  {
   "cell_type": "code",
   "execution_count": null,
   "id": "14d46e47",
   "metadata": {},
   "outputs": [],
   "source": [
    "_, ax = plt.subplots()\n",
    "ax.plot(X, y, label=r\"$f(x) = x \\sin(x)$\", linestyle=\"dotted\")\n",
    "ax.legend()\n",
    "ax.set(xlabel=\"$x$\", ylabel=\"$f(x)$\", title=\"True generative process\")\n",
    "plt.show()"
   ]
  },
  {
   "cell_type": "markdown",
   "id": "acd63241",
   "metadata": {},
   "source": [
    "\n",
    "## Example with noise-free target\n",
    "\n",
    "In this first example, we use the true generative process without adding noise.\n",
    "For training the Gaussian Process regression, we select only a few samples."
   ]
  },
  {
   "cell_type": "code",
   "execution_count": null,
   "id": "a570e62e",
   "metadata": {},
   "outputs": [],
   "source": [
    "rng = np.random.default_rng(1)\n",
    "training_indices = rng.choice(np.arange(y.size), size=6, replace=False)\n",
    "X_train, y_train = X[training_indices], y[training_indices]"
   ]
  },
  {
   "cell_type": "markdown",
   "id": "16539f22",
   "metadata": {},
   "source": [
    "\n",
    "A Gaussian kernel lets us craft a kernel by hand and compose base kernels together.\n",
    "Here, we use a radial basis function (RBF) kernel and a constant parameter to fit\n",
    "the amplitude."
   ]
  },
  {
   "cell_type": "code",
   "execution_count": null,
   "id": "8eb81729",
   "metadata": {},
   "outputs": [],
   "source": [
    "from sklearn.gaussian_process import GaussianProcessRegressor\n",
    "from sklearn.gaussian_process.kernels import RBF\n",
    "\n",
    "kernel = 1 * RBF(length_scale=1.0, length_scale_bounds=(1e-2, 1e2))\n",
    "gaussian_process = GaussianProcessRegressor(kernel=kernel, n_restarts_optimizer=20)"
   ]
  },
  {
   "cell_type": "markdown",
   "id": "04461bd8",
   "metadata": {},
   "source": [
    "\n",
    "Previous methods we presented used a single model where we find optimal parameters\n",
    "that best fit the dataset. Gaussian Process uses a different paradigm: it works with\n",
    "a distribution of models. We start with a prior distribution of models. The training\n",
    "set combines with this prior to give us a posterior distribution of models.\n",
    "\n",
    "First, let's examine the prior distribution of our Gaussian process."
   ]
  },
  {
   "cell_type": "code",
   "execution_count": null,
   "id": "91e9616a",
   "metadata": {},
   "outputs": [],
   "source": [
    "y_samples = gaussian_process.sample_y(X, n_samples=5)\n",
    "\n",
    "_, ax = plt.subplots()\n",
    "for idx, single_prior in enumerate(y_samples.T):\n",
    "    ax.plot(\n",
    "        X.ravel(),\n",
    "        single_prior,\n",
    "        linestyle=\"--\",\n",
    "        alpha=0.7,\n",
    "        label=f\"Sampled function #{idx + 1}\",\n",
    "    )\n",
    "\n",
    "ax.legend(loc=\"center left\", bbox_to_anchor=(1, 0.5))\n",
    "ax.set(xlabel=\"$x$\", ylabel=\"$f(x)$\", title=\"Sample from the GP prior distribution\")\n",
    "plt.show()"
   ]
  },
  {
   "cell_type": "markdown",
   "id": "3d5810f4",
   "metadata": {},
   "source": [
    "\n",
    "The samples from the prior distribution start as random realizations. They differ\n",
    "greatly from our true generative model. However, these samples form a distribution\n",
    "of models. We plot the mean and the 95% confidence interval.\n",
    "\n",
    "mean_prediction, std_prediction = gaussian_process.predict(X, return_std=True)"
   ]
  },
  {
   "cell_type": "code",
   "execution_count": null,
   "id": "06b937c9",
   "metadata": {},
   "outputs": [],
   "source": [
    "_, ax = plt.subplots()\n",
    "ax.plot(X, mean_prediction, label=\"Mean prediction\")\n",
    "ax.fill_between(\n",
    "    X.ravel(),\n",
    "    mean_prediction - 1.96 * std_prediction,\n",
    "    mean_prediction + 1.96 * std_prediction,\n",
    "    alpha=0.2,\n",
    "    label=r\"95% confidence interval\",\n",
    "    color=\"tab:blue\",\n",
    ")\n",
    "\n",
    "for idx, single_prior in enumerate(y_samples.T):\n",
    "    ax.plot(\n",
    "        X.ravel(),\n",
    "        single_prior,\n",
    "        linestyle=\"--\",\n",
    "        alpha=0.7,\n",
    "        label=f\"Sampled function #{idx + 1}\",\n",
    "    )\n",
    "\n",
    "\n",
    "ax.legend(loc=\"center left\", bbox_to_anchor=(1, 0.5))\n",
    "ax.set(\n",
    "    xlabel=\"$x$\", ylabel=\"$f(x)$\", title=\"GP prediction using only prior distribution\"\n",
    ")\n",
    "plt.show()"
   ]
  },
  {
   "cell_type": "markdown",
   "id": "35e92ee7",
   "metadata": {},
   "source": [
    "\n",
    "The true generative process and the prediction show we need to improve our model."
   ]
  },
  {
   "cell_type": "code",
   "execution_count": null,
   "id": "c2d02c21",
   "metadata": {},
   "outputs": [],
   "source": [
    "_, ax = plt.subplots()\n",
    "ax.plot(X, y, label=r\"$f(x) = x \\sin(x)$\", linestyle=\"dotted\")\n",
    "ax.plot(X, mean_prediction, label=\"Mean prediction\")\n",
    "ax.fill_between(\n",
    "    X.ravel(),\n",
    "    mean_prediction - 1.96 * std_prediction,\n",
    "    mean_prediction + 1.96 * std_prediction,\n",
    "    alpha=0.5,\n",
    "    label=r\"95% confidence interval\",\n",
    "    color=\"tab:orange\",\n",
    ")\n",
    "ax.legend(loc=\"center left\", bbox_to_anchor=(1, 0.5))\n",
    "ax.set(xlabel=\"$x$\", ylabel=\"$f(x)$\")\n",
    "plt.show()"
   ]
  },
  {
   "cell_type": "markdown",
   "id": "249ed5b9",
   "metadata": {},
   "source": [
    "\n",
    "Now, we fit a Gaussian process on these few training samples to see how they\n",
    "influence the posterior distribution."
   ]
  },
  {
   "cell_type": "code",
   "execution_count": null,
   "id": "15638199",
   "metadata": {},
   "outputs": [],
   "source": [
    "gaussian_process.fit(X_train, y_train)\n",
    "gaussian_process.kernel_"
   ]
  },
  {
   "cell_type": "markdown",
   "id": "5b875162",
   "metadata": {},
   "source": [
    "\n",
    "After fitting our model, the hyperparameters of the kernel have been optimized.\n",
    "Now, we use our kernel to compute the mean prediction of the full dataset and\n",
    "plot the 95% confidence interval."
   ]
  },
  {
   "cell_type": "code",
   "execution_count": null,
   "id": "68b6b9df",
   "metadata": {},
   "outputs": [],
   "source": [
    "mean_prediction, std_prediction = gaussian_process.predict(X, return_std=True)\n",
    "\n",
    "_, ax = plt.subplots()\n",
    "ax.plot(X, y, label=r\"$f(x) = x \\sin(x)$\", linestyle=\"dotted\")\n",
    "ax.scatter(X_train, y_train, label=\"Observations\")\n",
    "ax.plot(X, mean_prediction, label=\"Mean prediction\")\n",
    "ax.fill_between(\n",
    "    X.ravel(),\n",
    "    mean_prediction - 1.96 * std_prediction,\n",
    "    mean_prediction + 1.96 * std_prediction,\n",
    "    alpha=0.5,\n",
    "    label=r\"95% confidence interval\",\n",
    ")\n",
    "ax.legend(loc=\"center left\", bbox_to_anchor=(1, 0.5))\n",
    "ax.set(\n",
    "    xlabel=\"$x$\",\n",
    "    ylabel=\"$f(x)$\",\n",
    "    title=\"Gaussian process regression \\non noise-free dataset\",\n",
    ")\n",
    "plt.show()"
   ]
  },
  {
   "cell_type": "markdown",
   "id": "31d55529",
   "metadata": {},
   "source": [
    "\n",
    "For predictions near training points, the 95% confidence interval shows small\n",
    "amplitude. When samples fall far from training data, our model predicts less\n",
    "accurately with higher uncertainty.\n",
    "\n",
    "## Example with noisy targets\n",
    "\n",
    "We repeat a similar experiment by adding noise to the target. This shows the\n",
    "effect of noise on the fitted model.\n",
    "\n",
    "We add random Gaussian noise to the target with an arbitrary standard deviation."
   ]
  },
  {
   "cell_type": "code",
   "execution_count": null,
   "id": "6fba95e5",
   "metadata": {},
   "outputs": [],
   "source": [
    "dy = 0.5 + 1.0 * rng.uniform(size=y_train.shape)\n",
    "y_train_noisy = y_train + rng.normal(0, dy)"
   ]
  },
  {
   "cell_type": "markdown",
   "id": "acae9fb6",
   "metadata": {},
   "source": [
    "\n",
    "We create a similar Gaussian process model. Along with the kernel, we specify\n",
    "the parameter `alpha` which represents the variance of Gaussian noise."
   ]
  },
  {
   "cell_type": "code",
   "execution_count": null,
   "id": "5a151bf0",
   "metadata": {},
   "outputs": [],
   "source": [
    "gaussian_process = GaussianProcessRegressor(\n",
    "    kernel=kernel, alpha=dy**2, n_restarts_optimizer=9\n",
    ")\n",
    "gaussian_process.fit(X_train, y_train_noisy)\n",
    "mean_prediction, std_prediction = gaussian_process.predict(X, return_std=True)"
   ]
  },
  {
   "cell_type": "markdown",
   "id": "9acae1bc",
   "metadata": {},
   "source": [
    "\n",
    "Let's plot the mean prediction and uncertainty region."
   ]
  },
  {
   "cell_type": "code",
   "execution_count": null,
   "id": "0be92fe6",
   "metadata": {},
   "outputs": [],
   "source": [
    "_, ax = plt.subplots()\n",
    "ax.plot(X, y, label=r\"$f(x) = x \\sin(x)$\", linestyle=\"dotted\")\n",
    "ax.errorbar(\n",
    "    X_train,\n",
    "    y_train_noisy,\n",
    "    dy,\n",
    "    linestyle=\"None\",\n",
    "    color=\"tab:blue\",\n",
    "    marker=\".\",\n",
    "    markersize=10,\n",
    "    label=\"Observations\",\n",
    ")\n",
    "ax.plot(X, mean_prediction, label=\"Mean prediction\")\n",
    "ax.fill_between(\n",
    "    X.ravel(),\n",
    "    mean_prediction - 1.96 * std_prediction,\n",
    "    mean_prediction + 1.96 * std_prediction,\n",
    "    color=\"tab:orange\",\n",
    "    alpha=0.5,\n",
    "    label=r\"95% confidence interval\",\n",
    ")\n",
    "ax.legend(loc=\"center left\", bbox_to_anchor=(1, 0.5))\n",
    "ax.set(\n",
    "    xlabel=\"$x$\",\n",
    "    ylabel=\"$f(x)$\",\n",
    "    title=\"Gaussian process regression \\non a noisy dataset\",\n",
    ")\n",
    "plt.show()"
   ]
  },
  {
   "cell_type": "markdown",
   "id": "13fde3a6",
   "metadata": {},
   "source": [
    "\n",
    "## Exercise: Design a kernel for Gaussian Process\n",
    "\n",
    "### Build the dataset\n",
    "\n",
    "The Mauna Loa Observatory collects air samples. We want to estimate the CO2\n",
    "concentration and extrapolate it for future years. Let's load the original\n",
    "dataset from OpenML."
   ]
  },
  {
   "cell_type": "code",
   "execution_count": null,
   "id": "31b2f237",
   "metadata": {},
   "outputs": [],
   "source": [
    "# Uncomment this line in JupyterLite\n",
    "%pip install pyodide-http\n",
    "# import pyodide_http\n",
    "# pyodide_http.patch_all()"
   ]
  },
  {
   "cell_type": "code",
   "execution_count": null,
   "id": "f4071e7e",
   "metadata": {},
   "outputs": [],
   "source": [
    "from sklearn.datasets import fetch_openml\n",
    "\n",
    "co2 = fetch_openml(data_id=41187, as_frame=True)\n",
    "co2.frame.head()"
   ]
  },
  {
   "cell_type": "markdown",
   "id": "d4968659",
   "metadata": {},
   "source": [
    "\n",
    "First, we create a date index and select only the CO2 column."
   ]
  },
  {
   "cell_type": "code",
   "execution_count": null,
   "id": "0dd985d2",
   "metadata": {},
   "outputs": [],
   "source": [
    "import pandas as pd\n",
    "\n",
    "co2_data = co2.frame\n",
    "co2_data[\"date\"] = pd.to_datetime(co2_data[[\"year\", \"month\", \"day\"]])\n",
    "co2_data = co2_data[[\"date\", \"co2\"]].set_index(\"date\")\n",
    "co2_data.head()"
   ]
  },
  {
   "cell_type": "code",
   "execution_count": null,
   "id": "029e65a1",
   "metadata": {},
   "outputs": [],
   "source": [
    "co2_data.index.min(), co2_data.index.max()"
   ]
  },
  {
   "cell_type": "markdown",
   "id": "ce495e6f",
   "metadata": {},
   "source": [
    "\n",
    "The data shows CO2 concentration measurements from March 1958 to December 2001.\n",
    "Let's plot this raw information."
   ]
  },
  {
   "cell_type": "code",
   "execution_count": null,
   "id": "a3623dce",
   "metadata": {},
   "outputs": [],
   "source": [
    "_, ax = plt.subplots(figsize=(8, 6))\n",
    "co2_data.plot(ax=ax)\n",
    "ax.set(\n",
    "    xlabel=\"Date\",\n",
    "    ylabel=\"CO$_2$ concentration (ppm)\",\n",
    "    title=\"Raw air samples measurements from\\nthe Mauna Loa Observatory\",\n",
    ")\n",
    "plt.show()"
   ]
  },
  {
   "cell_type": "markdown",
   "id": "127651da",
   "metadata": {},
   "source": [
    "We take a monthly average and drop months without measurements. This smooths\n",
    "the data.\n",
    "\n",
    "_, ax = plt.subplots(figsize=(8, 6))\n",
    "co2_data = co2_data.resample(\"ME\").mean().dropna(axis=\"index\", how=\"any\")\n",
    "co2_data.plot(ax=ax)\n",
    "ax.set(\n",
    "    ylabel=\"Monthly average of CO$_2$ concentration (ppm)\",\n",
    "    title=(\n",
    "        \"Monthly average of air samples measurements\\n from the Mauna Loa Observatory\",\n",
    "    ),\n",
    ")\n",
    "plt.show()"
   ]
  },
  {
   "cell_type": "markdown",
   "id": "d9b67abe",
   "metadata": {},
   "source": [
    "\n",
    "We want to predict the CO2 concentration based on the date. We also want to\n",
    "extrapolate values for years after 2001.\n",
    "\n",
    "First, we split the data and target. We convert the dates into numeric values."
   ]
  },
  {
   "cell_type": "code",
   "execution_count": null,
   "id": "2945ac70",
   "metadata": {},
   "outputs": [],
   "source": [
    "X_train = (co2_data.index.year + co2_data.index.month / 12).to_numpy().reshape(-1, 1)\n",
    "y_train = co2_data[\"co2\"].to_numpy()\n",
    "y_mean = y_train.mean()\n",
    "y_train -= y_mean"
   ]
  },
  {
   "cell_type": "markdown",
   "id": "848ef89a",
   "metadata": {},
   "source": [
    "\n",
    "### Exercise\n",
    "\n",
    "Design a kernel for a Gaussian Process that fits the training data. Then\n",
    "extrapolate values up to 2025."
   ]
  },
  {
   "cell_type": "code",
   "execution_count": null,
   "id": "6a34ef6c",
   "metadata": {},
   "outputs": [],
   "source": [
    "import datetime\n",
    "import numpy as np\n",
    "\n",
    "today = datetime.datetime.now()\n",
    "current_month = today.year + today.month / 12\n",
    "X_test = np.linspace(start=1958, stop=current_month, num=1_000).reshape(-1, 1)"
   ]
  },
  {
   "cell_type": "code",
   "execution_count": null,
   "id": "5805557f",
   "metadata": {},
   "outputs": [],
   "source": [
    "from sklearn.gaussian_process.kernels import (\n",
    "    ExpSineSquared,\n",
    "    RationalQuadratic,\n",
    "    WhiteKernel,\n",
    ")\n",
    "\n",
    "\n",
    "long_term_trend_kernel = 50.0**2 * RBF(length_scale=50.0)\n",
    "seasonal_kernel = (\n",
    "    2.0**2\n",
    "    * RBF(length_scale=100.0)\n",
    "    * ExpSineSquared(length_scale=1.0, periodicity=1.0, periodicity_bounds=\"fixed\")\n",
    ")\n",
    "irregularities_kernel = 0.5**2 * RationalQuadratic(length_scale=1.0, alpha=1.0)\n",
    "noise_kernel = 0.1**2 * RBF(length_scale=0.1) + WhiteKernel(\n",
    "    noise_level=0.1**2, noise_level_bounds=(1e-5, 1e5)\n",
    ")\n",
    "co2_kernel = (\n",
    "    long_term_trend_kernel + seasonal_kernel + irregularities_kernel + noise_kernel\n",
    ")"
   ]
  },
  {
   "cell_type": "code",
   "execution_count": null,
   "id": "7f744908",
   "metadata": {},
   "outputs": [],
   "source": [
    "gaussian_process = GaussianProcessRegressor(kernel=co2_kernel, normalize_y=False)\n",
    "gaussian_process.fit(X_train, y_train)"
   ]
  },
  {
   "cell_type": "code",
   "execution_count": null,
   "id": "2cf24d54",
   "metadata": {},
   "outputs": [],
   "source": [
    "mean_y_pred, std_y_pred = gaussian_process.predict(X_test, return_std=True)\n",
    "mean_y_pred += y_mean"
   ]
  },
  {
   "cell_type": "code",
   "execution_count": null,
   "id": "39124c6c",
   "metadata": {},
   "outputs": [],
   "source": [
    "_, ax = plt.subplots(figsize=(8, 6))\n",
    "ax.plot(\n",
    "    X_train, y_train + y_mean, color=\"black\", linestyle=\"dashed\", label=\"Measurements\"\n",
    ")\n",
    "ax.plot(X_test, mean_y_pred, color=\"tab:blue\", alpha=0.4, label=\"Gaussian process\")\n",
    "ax.fill_between(\n",
    "    X_test.ravel(),\n",
    "    mean_y_pred - std_y_pred,\n",
    "    mean_y_pred + std_y_pred,\n",
    "    color=\"tab:blue\",\n",
    "    alpha=0.2,\n",
    ")\n",
    "ax.legend()\n",
    "ax.set_xlabel(\"Year\")\n",
    "ax.set_ylabel(\"Monthly average of CO$_2$ concentration (ppm)\")\n",
    "_ = ax.set_title(\n",
    "    \"Monthly average of air samples measurements\\n\" \"from the Mauna Loa Observatory\"\n",
    ")"
   ]
  },
  {
   "cell_type": "code",
   "execution_count": null,
   "id": "a7ff197a",
   "metadata": {},
   "outputs": [],
   "source": []
  }
 ],
 "metadata": {
  "jupytext": {
   "cell_metadata_filter": "-all",
   "main_language": "python",
   "notebook_metadata_filter": "-all"
  }
 },
 "nbformat": 4,
 "nbformat_minor": 5
}
