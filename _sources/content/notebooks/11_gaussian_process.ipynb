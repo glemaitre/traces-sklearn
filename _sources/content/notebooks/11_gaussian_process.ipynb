{
 "cells": [
  {
   "cell_type": "markdown",
   "id": "c9d1b8af",
   "metadata": {},
   "source": [
    "\n",
    "# Gaussian process\n",
    "\n",
    "All models we have encountered so far provide a point-estimate during prediction.\n",
    "However, none of these models (except `QuantileRegression`) provide confidence\n",
    "intervals for their predictions.\n",
    "\n",
    "Gaussian Process models allow us to obtain such information. In this notebook, we\n",
    "present how these models differ from the ones we already covered.\n",
    "\n",
    "Let's start by generating a toy dataset."
   ]
  },
  {
   "cell_type": "code",
   "execution_count": null,
   "id": "efb92883",
   "metadata": {},
   "outputs": [],
   "source": [
    "# When using JupyterLite, uncomment and install the `skrub` package.\n",
    "%pip install skrub\n",
    "import matplotlib.pyplot as plt\n",
    "import skrub\n",
    "\n",
    "skrub.patch_display()  # makes nice display for pandas tables"
   ]
  },
  {
   "cell_type": "code",
   "execution_count": null,
   "id": "606db9da",
   "metadata": {},
   "outputs": [],
   "source": [
    "import numpy as np\n",
    "\n",
    "X = np.linspace(start=0, stop=10, num=1_000).reshape(-1, 1)\n",
    "y = np.squeeze(X * np.sin(X))"
   ]
  },
  {
   "cell_type": "code",
   "execution_count": null,
   "id": "aff249e7",
   "metadata": {},
   "outputs": [],
   "source": [
    "_, ax = plt.subplots()\n",
    "ax.plot(X, y, label=r\"$f(x) = x \\sin(x)$\", linestyle=\"dotted\")\n",
    "ax.legend()\n",
    "ax.set(xlabel=\"$x$\", ylabel=\"$f(x)$\", title=\"True generative process\")\n",
    "plt.show()"
   ]
  },
  {
   "cell_type": "markdown",
   "id": "cc683be0",
   "metadata": {},
   "source": [
    "\n",
    "## Example with noise-free target\n",
    "\n",
    "In this first example, we use the true generative process without adding noise.\n",
    "For training the Gaussian Process regression, we select only a few samples."
   ]
  },
  {
   "cell_type": "code",
   "execution_count": null,
   "id": "ea44f351",
   "metadata": {},
   "outputs": [],
   "source": [
    "rng = np.random.default_rng(1)\n",
    "training_indices = rng.choice(np.arange(y.size), size=6, replace=False)\n",
    "X_train, y_train = X[training_indices], y[training_indices]"
   ]
  },
  {
   "cell_type": "markdown",
   "id": "de732b03",
   "metadata": {},
   "source": [
    "\n",
    "A Gaussian kernel lets us craft a kernel by hand and compose base kernels together.\n",
    "Here, we use a radial basis function (RBF) kernel and a constant parameter to fit\n",
    "the amplitude."
   ]
  },
  {
   "cell_type": "code",
   "execution_count": null,
   "id": "e8838713",
   "metadata": {},
   "outputs": [],
   "source": [
    "from sklearn.gaussian_process import GaussianProcessRegressor\n",
    "from sklearn.gaussian_process.kernels import RBF\n",
    "\n",
    "kernel = 1 * RBF(length_scale=1.0, length_scale_bounds=(1e-2, 1e2))\n",
    "gaussian_process = GaussianProcessRegressor(kernel=kernel, n_restarts_optimizer=20)"
   ]
  },
  {
   "cell_type": "markdown",
   "id": "7691d216",
   "metadata": {},
   "source": [
    "\n",
    "Previous methods we presented used a single model where we find optimal parameters\n",
    "that best fit the dataset. Gaussian Process uses a different paradigm: it works with\n",
    "a distribution of models. We start with a prior distribution of models. The training\n",
    "set combines with this prior to give us a posterior distribution of models.\n",
    "\n",
    "First, let's examine the prior distribution of our Gaussian process."
   ]
  },
  {
   "cell_type": "code",
   "execution_count": null,
   "id": "7a93e2e2",
   "metadata": {},
   "outputs": [],
   "source": [
    "y_samples = gaussian_process.sample_y(X, n_samples=5)\n",
    "\n",
    "_, ax = plt.subplots()\n",
    "for idx, single_prior in enumerate(y_samples.T):\n",
    "    ax.plot(\n",
    "        X.ravel(),\n",
    "        single_prior,\n",
    "        linestyle=\"--\",\n",
    "        alpha=0.7,\n",
    "        label=f\"Sampled function #{idx + 1}\",\n",
    "    )\n",
    "\n",
    "ax.legend(loc=\"center left\", bbox_to_anchor=(1, 0.5))\n",
    "ax.set(xlabel=\"$x$\", ylabel=\"$f(x)$\", title=\"Sample from the GP prior distribution\")\n",
    "plt.show()"
   ]
  },
  {
   "cell_type": "markdown",
   "id": "14517008",
   "metadata": {},
   "source": [
    "\n",
    "The samples from the prior distribution start as random realizations. They differ\n",
    "greatly from our true generative model. However, these samples form a distribution\n",
    "of models. We plot the mean and the 95% confidence interval."
   ]
  },
  {
   "cell_type": "code",
   "execution_count": null,
   "id": "f02b2788",
   "metadata": {},
   "outputs": [],
   "source": [
    "mean_prediction, std_prediction = gaussian_process.predict(X, return_std=True)"
   ]
  },
  {
   "cell_type": "code",
   "execution_count": null,
   "id": "7e2353ec",
   "metadata": {},
   "outputs": [],
   "source": [
    "_, ax = plt.subplots()\n",
    "ax.plot(X, mean_prediction, label=\"Mean prediction\")\n",
    "ax.fill_between(\n",
    "    X.ravel(),\n",
    "    mean_prediction - 1.96 * std_prediction,\n",
    "    mean_prediction + 1.96 * std_prediction,\n",
    "    alpha=0.2,\n",
    "    label=r\"95% confidence interval\",\n",
    "    color=\"tab:blue\",\n",
    ")\n",
    "\n",
    "for idx, single_prior in enumerate(y_samples.T):\n",
    "    ax.plot(\n",
    "        X.ravel(),\n",
    "        single_prior,\n",
    "        linestyle=\"--\",\n",
    "        alpha=0.7,\n",
    "        label=f\"Sampled function #{idx + 1}\",\n",
    "    )\n",
    "\n",
    "\n",
    "ax.legend(loc=\"center left\", bbox_to_anchor=(1, 0.5))\n",
    "ax.set(\n",
    "    xlabel=\"$x$\", ylabel=\"$f(x)$\", title=\"GP prediction using only prior distribution\"\n",
    ")\n",
    "plt.show()"
   ]
  },
  {
   "cell_type": "markdown",
   "id": "07aa6683",
   "metadata": {},
   "source": [
    "\n",
    "The true generative process and the prediction show we need to improve our model."
   ]
  },
  {
   "cell_type": "code",
   "execution_count": null,
   "id": "f59b5a8d",
   "metadata": {},
   "outputs": [],
   "source": [
    "_, ax = plt.subplots()\n",
    "ax.plot(X, y, label=r\"$f(x) = x \\sin(x)$\", linestyle=\"dotted\")\n",
    "ax.plot(X, mean_prediction, label=\"Mean prediction\")\n",
    "ax.fill_between(\n",
    "    X.ravel(),\n",
    "    mean_prediction - 1.96 * std_prediction,\n",
    "    mean_prediction + 1.96 * std_prediction,\n",
    "    alpha=0.5,\n",
    "    label=r\"95% confidence interval\",\n",
    "    color=\"tab:orange\",\n",
    ")\n",
    "ax.legend(loc=\"center left\", bbox_to_anchor=(1, 0.5))\n",
    "ax.set(xlabel=\"$x$\", ylabel=\"$f(x)$\")\n",
    "plt.show()"
   ]
  },
  {
   "cell_type": "markdown",
   "id": "34cdd4c4",
   "metadata": {},
   "source": [
    "\n",
    "Now, we fit a Gaussian process on these few training samples to see how they\n",
    "influence the posterior distribution."
   ]
  },
  {
   "cell_type": "code",
   "execution_count": null,
   "id": "6ed1e5ac",
   "metadata": {},
   "outputs": [],
   "source": [
    "gaussian_process.fit(X_train, y_train)\n",
    "gaussian_process.kernel_"
   ]
  },
  {
   "cell_type": "markdown",
   "id": "fbe8b9fd",
   "metadata": {},
   "source": [
    "\n",
    "After fitting our model, the hyperparameters of the kernel have been optimized.\n",
    "Now, we use our kernel to compute the mean prediction of the full dataset and\n",
    "plot the 95% confidence interval."
   ]
  },
  {
   "cell_type": "code",
   "execution_count": null,
   "id": "5b3b9ef7",
   "metadata": {},
   "outputs": [],
   "source": [
    "mean_prediction, std_prediction = gaussian_process.predict(X, return_std=True)\n",
    "\n",
    "_, ax = plt.subplots()\n",
    "ax.plot(X, y, label=r\"$f(x) = x \\sin(x)$\", linestyle=\"dotted\")\n",
    "ax.scatter(X_train, y_train, label=\"Observations\")\n",
    "ax.plot(X, mean_prediction, label=\"Mean prediction\")\n",
    "ax.fill_between(\n",
    "    X.ravel(),\n",
    "    mean_prediction - 1.96 * std_prediction,\n",
    "    mean_prediction + 1.96 * std_prediction,\n",
    "    alpha=0.5,\n",
    "    label=r\"95% confidence interval\",\n",
    ")\n",
    "ax.legend(loc=\"center left\", bbox_to_anchor=(1, 0.5))\n",
    "ax.set(\n",
    "    xlabel=\"$x$\",\n",
    "    ylabel=\"$f(x)$\",\n",
    "    title=\"Gaussian process regression \\non noise-free dataset\",\n",
    ")\n",
    "plt.show()"
   ]
  },
  {
   "cell_type": "markdown",
   "id": "1145b453",
   "metadata": {},
   "source": [
    "\n",
    "For predictions near training points, the 95% confidence interval shows small\n",
    "amplitude. When samples fall far from training data, our model predicts less\n",
    "accurately with higher uncertainty.\n",
    "\n",
    "## Example with noisy targets\n",
    "\n",
    "We repeat a similar experiment by adding noise to the target. This shows the\n",
    "effect of noise on the fitted model.\n",
    "\n",
    "We add random Gaussian noise to the target with an arbitrary standard deviation."
   ]
  },
  {
   "cell_type": "code",
   "execution_count": null,
   "id": "c3488215",
   "metadata": {},
   "outputs": [],
   "source": [
    "dy = 0.5 + 1.0 * rng.uniform(size=y_train.shape)\n",
    "y_train_noisy = y_train + rng.normal(0, dy)"
   ]
  },
  {
   "cell_type": "markdown",
   "id": "49d81729",
   "metadata": {},
   "source": [
    "\n",
    "We create a similar Gaussian process model. Along with the kernel, we specify\n",
    "the parameter `alpha` which represents the variance of Gaussian noise."
   ]
  },
  {
   "cell_type": "code",
   "execution_count": null,
   "id": "3ce64761",
   "metadata": {},
   "outputs": [],
   "source": [
    "gaussian_process = GaussianProcessRegressor(\n",
    "    kernel=kernel, alpha=dy**2, n_restarts_optimizer=9\n",
    ")\n",
    "gaussian_process.fit(X_train, y_train_noisy)\n",
    "mean_prediction, std_prediction = gaussian_process.predict(X, return_std=True)"
   ]
  },
  {
   "cell_type": "markdown",
   "id": "6a0b36eb",
   "metadata": {},
   "source": [
    "\n",
    "Let's plot the mean prediction and uncertainty region."
   ]
  },
  {
   "cell_type": "code",
   "execution_count": null,
   "id": "77bc2a67",
   "metadata": {},
   "outputs": [],
   "source": [
    "_, ax = plt.subplots()\n",
    "ax.plot(X, y, label=r\"$f(x) = x \\sin(x)$\", linestyle=\"dotted\")\n",
    "ax.errorbar(\n",
    "    X_train,\n",
    "    y_train_noisy,\n",
    "    dy,\n",
    "    linestyle=\"None\",\n",
    "    color=\"tab:blue\",\n",
    "    marker=\".\",\n",
    "    markersize=10,\n",
    "    label=\"Observations\",\n",
    ")\n",
    "ax.plot(X, mean_prediction, label=\"Mean prediction\")\n",
    "ax.fill_between(\n",
    "    X.ravel(),\n",
    "    mean_prediction - 1.96 * std_prediction,\n",
    "    mean_prediction + 1.96 * std_prediction,\n",
    "    color=\"tab:orange\",\n",
    "    alpha=0.5,\n",
    "    label=r\"95% confidence interval\",\n",
    ")\n",
    "ax.legend(loc=\"center left\", bbox_to_anchor=(1, 0.5))\n",
    "ax.set(\n",
    "    xlabel=\"$x$\",\n",
    "    ylabel=\"$f(x)$\",\n",
    "    title=\"Gaussian process regression \\non a noisy dataset\",\n",
    ")\n",
    "plt.show()"
   ]
  },
  {
   "cell_type": "markdown",
   "id": "8b91a941",
   "metadata": {},
   "source": [
    "\n",
    "## Exercise: Design a kernel for Gaussian Process\n",
    "\n",
    "### Build the dataset\n",
    "\n",
    "The Mauna Loa Observatory collects air samples. We want to estimate the CO2\n",
    "concentration and extrapolate it for future years. Let's load the original\n",
    "dataset from OpenML."
   ]
  },
  {
   "cell_type": "code",
   "execution_count": null,
   "id": "c8cd0876",
   "metadata": {},
   "outputs": [],
   "source": [
    "# Uncomment this line in JupyterLite\n",
    "%pip install pyodide-http\n",
    "# import pyodide_http\n",
    "# pyodide_http.patch_all()"
   ]
  },
  {
   "cell_type": "code",
   "execution_count": null,
   "id": "7c89d484",
   "metadata": {},
   "outputs": [],
   "source": [
    "from sklearn.datasets import fetch_openml\n",
    "\n",
    "co2 = fetch_openml(data_id=41187, as_frame=True)\n",
    "co2.frame"
   ]
  },
  {
   "cell_type": "markdown",
   "id": "b5364921",
   "metadata": {},
   "source": [
    "\n",
    "First, we create a date index and select only the CO2 column."
   ]
  },
  {
   "cell_type": "code",
   "execution_count": null,
   "id": "dd7fde2a",
   "metadata": {},
   "outputs": [],
   "source": [
    "import pandas as pd\n",
    "\n",
    "co2_data = co2.frame\n",
    "co2_data[\"date\"] = pd.to_datetime(co2_data[[\"year\", \"month\", \"day\"]])\n",
    "co2_data = co2_data[[\"date\", \"co2\"]].set_index(\"date\")\n",
    "co2_data"
   ]
  },
  {
   "cell_type": "code",
   "execution_count": null,
   "id": "a3bf03db",
   "metadata": {},
   "outputs": [],
   "source": [
    "co2_data.index.min(), co2_data.index.max()"
   ]
  },
  {
   "cell_type": "markdown",
   "id": "62900c45",
   "metadata": {},
   "source": [
    "\n",
    "The data shows CO2 concentration measurements from March 1958 to December 2001.\n",
    "Let's plot this raw information."
   ]
  },
  {
   "cell_type": "code",
   "execution_count": null,
   "id": "6cf061ff",
   "metadata": {},
   "outputs": [],
   "source": [
    "_, ax = plt.subplots(figsize=(8, 6))\n",
    "co2_data.plot(ax=ax)\n",
    "ax.set(\n",
    "    xlabel=\"Date\",\n",
    "    ylabel=\"CO$_2$ concentration (ppm)\",\n",
    "    title=\"Raw air samples measurements from\\nthe Mauna Loa Observatory\",\n",
    ")\n",
    "plt.show()"
   ]
  },
  {
   "cell_type": "markdown",
   "id": "bd0eed5e",
   "metadata": {},
   "source": [
    "We take a monthly average and drop months without measurements. This smooths\n",
    "the data."
   ]
  },
  {
   "cell_type": "code",
   "execution_count": null,
   "id": "27e85af9",
   "metadata": {},
   "outputs": [],
   "source": [
    "_, ax = plt.subplots(figsize=(8, 6))\n",
    "co2_data = co2_data.resample(\"ME\").mean().dropna(axis=\"index\", how=\"any\")\n",
    "co2_data.plot(ax=ax)\n",
    "ax.set(\n",
    "    ylabel=\"Monthly average of CO$_2$ concentration (ppm)\",\n",
    "    title=(\n",
    "        \"Monthly average of air samples measurements\\n from the Mauna Loa Observatory\",\n",
    "    ),\n",
    ")\n",
    "plt.show()"
   ]
  },
  {
   "cell_type": "markdown",
   "id": "9964f5f9",
   "metadata": {},
   "source": [
    "\n",
    "We want to predict the CO2 concentration based on the date. We also want to\n",
    "extrapolate values for years after 2001.\n",
    "\n",
    "First, we split the data and target. We convert the dates into numeric values."
   ]
  },
  {
   "cell_type": "code",
   "execution_count": null,
   "id": "df83e1bc",
   "metadata": {},
   "outputs": [],
   "source": [
    "X_train = (co2_data.index.year + co2_data.index.month / 12).to_numpy().reshape(-1, 1)\n",
    "y_train = co2_data[\"co2\"].to_numpy()"
   ]
  },
  {
   "cell_type": "markdown",
   "id": "c589c818",
   "metadata": {},
   "source": [
    "\n",
    "### Exercise\n",
    "\n",
    "Let's repeat the experiment from [1] (Sect. 5.4.3, p.119-122) by designing a\n",
    "handmade kernel.\n",
    "\n",
    "Let's recall the definition of the kernel. The long-term trend is modeled by\n",
    "a squared exponential kernel.\n",
    "\n",
    "$$ k_{1}(x, x') = \\theta_{1}^2 \\exp\\left( -\\frac{(x - x')^2}{2\n",
    "    \\theta_{2}^2} \\right) $$\n",
    "\n",
    "The seasonal component uses an exponential sine squared kernel to encode the\n",
    "periodicity. However, since the signal is not exactly periodic, it is fixed by\n",
    "multiplying by a squared exponential kernel. Thus, it is defined as:\n",
    "\n",
    "$$ k_{2}(x, x') = \\theta_{3}^2 \\exp\\left( -\\frac{(x - x')^2}{2\n",
    "    \\theta_{4}^2} - \\frac{2 \\sin^2\\left(\\pi (x - x') \\right)}{\\theta_{5}^2} \\right) $$\n",
    "\n",
    "The irregularities are modeled by a rational quadratic kernel.\n",
    "\n",
    "$$ k_{3}(x, x') = \\theta_{6}^2 \\left( 1 + \\frac{(x - x')^2}{2 \\theta_{8} \\theta_{7}^2}\n",
    "    \\right)^{-\\theta_{8}} $$\n",
    "\n",
    "Finally, we add a noise component to the kernel that is modeled by a squared\n",
    "exponential kernel.\n",
    "\n",
    "$$ k_{4}(x, x') = \\theta_{9}^2 \\exp\\left( -\\frac{(x - x')^2}{2 \\theta_{10}^2} \\right)\n",
    "    + \\theta_{11}^2 \\delta_{x, x'} $$\n",
    "\n",
    "The final kernel is a sum of the previous kernels:\n",
    "\n",
    "$$ k(x, x') = \\theta_0 + k_{1}(x, x') + k_{2}(x, x') + k_{3}(x, x') + k_{4}(x, x') $$\n",
    "\n",
    "Where $\\theta_0$ is a constant offset equal to the mean of the target.\n",
    "\n",
    "**References**:\n",
    "\n",
    "[1] Rasmussen, C. E., & Williams, C. K. (2006). *Gaussian Processes for Machine\n",
    "Learning*. The MIT Press. https://gaussianprocess.org/gpml/chapters/RW.pdf\n",
    "\n",
    "Let's provide the bare-bones code to fit a Gaussian process with this kernel."
   ]
  },
  {
   "cell_type": "code",
   "execution_count": null,
   "id": "a7632e9a",
   "metadata": {},
   "outputs": [],
   "source": [
    "import datetime\n",
    "import numpy as np\n",
    "\n",
    "today = datetime.datetime.now()\n",
    "current_month = today.year + today.month / 12\n",
    "X_test = np.linspace(start=1958, stop=current_month, num=1_000).reshape(-1, 1)"
   ]
  },
  {
   "cell_type": "code",
   "execution_count": null,
   "id": "4ca1ae2f",
   "metadata": {},
   "outputs": [],
   "source": [
    "from sklearn.gaussian_process.kernels import (\n",
    "    ConstantKernel,\n",
    "    ExpSineSquared,  # noqa: F401\n",
    "    RationalQuadratic,  # noqa: F401\n",
    "    WhiteKernel,  # noqa: F401\n",
    ")\n",
    "\n",
    "constant_kernel = ConstantKernel(constant_value=y_train.mean())\n",
    "long_term_trend_kernel = 1.0**2\n",
    "seasonal_kernel = 1.0**2\n",
    "irregularities_kernel = 1.0**2\n",
    "noise_kernel = 1.0**2\n",
    "\n",
    "co2_kernel = (\n",
    "    constant_kernel\n",
    "    + long_term_trend_kernel\n",
    "    + seasonal_kernel\n",
    "    + irregularities_kernel\n",
    "    + noise_kernel\n",
    ")"
   ]
  },
  {
   "cell_type": "code",
   "execution_count": null,
   "id": "1a975485",
   "metadata": {},
   "outputs": [],
   "source": [
    "gaussian_process = GaussianProcessRegressor(\n",
    "    kernel=co2_kernel, normalize_y=False, n_restarts_optimizer=1\n",
    ")\n",
    "gaussian_process.fit(X_train, y_train)\n",
    "mean_y_pred, std_y_pred = gaussian_process.predict(X_test, return_std=True)"
   ]
  },
  {
   "cell_type": "code",
   "execution_count": null,
   "id": "23ce1298",
   "metadata": {},
   "outputs": [],
   "source": [
    "_, ax = plt.subplots(figsize=(8, 6))\n",
    "ax.plot(X_train, y_train, color=\"black\", linestyle=\"dashed\", label=\"Measurements\")\n",
    "ax.plot(X_test, mean_y_pred, color=\"tab:blue\", alpha=0.4, label=\"Gaussian process\")\n",
    "ax.fill_between(\n",
    "    X_test.ravel(),\n",
    "    mean_y_pred - std_y_pred,\n",
    "    mean_y_pred + std_y_pred,\n",
    "    color=\"tab:blue\",\n",
    "    alpha=0.2,\n",
    ")\n",
    "ax.legend()\n",
    "ax.set_xlabel(\"Year\")\n",
    "ax.set_ylabel(\"Monthly average of CO$_2$ concentration (ppm)\")\n",
    "_ = ax.set_title(\n",
    "    \"Monthly average of air samples measurements\\n\" \"from the Mauna Loa Observatory\"\n",
    ")"
   ]
  }
 ],
 "metadata": {
  "jupytext": {
   "cell_metadata_filter": "-all",
   "main_language": "python",
   "notebook_metadata_filter": "-all"
  }
 },
 "nbformat": 4,
 "nbformat_minor": 5
}
