{
 "cells": [
  {
   "cell_type": "markdown",
   "id": "e89ddbe0",
   "metadata": {},
   "source": [
    "\n",
    "# Losses\n",
    "\n",
    "This notebook explores linear models and loss functions in depth. We use the previous\n",
    "regression problem that models the relationship between penguins' flipper length and\n",
    "body mass."
   ]
  },
  {
   "cell_type": "code",
   "execution_count": null,
   "id": "07262e46",
   "metadata": {},
   "outputs": [],
   "source": [
    "# When using JupyterLite, you will need to uncomment and install the `skrub` package.\n",
    "%pip install skrub\n",
    "import matplotlib.pyplot as plt\n",
    "import skrub\n",
    "skrub.patch_display()  # make nice display for pandas tables"
   ]
  },
  {
   "cell_type": "code",
   "execution_count": null,
   "id": "a2568df3",
   "metadata": {},
   "outputs": [],
   "source": [
    "import pandas as pd\n",
    "\n",
    "data = pd.read_csv(\"../datasets/penguins_regression.csv\")\n",
    "data"
   ]
  },
  {
   "cell_type": "code",
   "execution_count": null,
   "id": "93d91169",
   "metadata": {},
   "outputs": [],
   "source": [
    "data.plot.scatter(x=\"Flipper Length (mm)\", y=\"Body Mass (g)\")\n",
    "plt.show()"
   ]
  },
  {
   "cell_type": "markdown",
   "id": "c5d5c9e3",
   "metadata": {},
   "source": [
    "\n",
    "The data shows a clear linear relationship between flipper length and body mass. We\n",
    "use body mass as our target variable and flipper length as our feature."
   ]
  },
  {
   "cell_type": "code",
   "execution_count": null,
   "id": "d191b5fd",
   "metadata": {},
   "outputs": [],
   "source": [
    "X, y = data[[\"Flipper Length (mm)\"]], data[\"Body Mass (g)\"]"
   ]
  },
  {
   "cell_type": "markdown",
   "id": "baea380d",
   "metadata": {},
   "source": [
    "\n",
    "In the previous notebook, we used scikit-learn's `LinearRegression` to learn model\n",
    "parameters from data with `fit` and make predictions with `predict`."
   ]
  },
  {
   "cell_type": "code",
   "execution_count": null,
   "id": "7c904031",
   "metadata": {},
   "outputs": [],
   "source": [
    "from sklearn.linear_model import LinearRegression\n",
    "\n",
    "model = LinearRegression()\n",
    "model.fit(X, y)\n",
    "predicted_target = model.predict(X)"
   ]
  },
  {
   "cell_type": "code",
   "execution_count": null,
   "id": "96a14f78",
   "metadata": {
    "lines_to_next_cell": 0
   },
   "outputs": [],
   "source": [
    "ax = data.plot.scatter(x=\"Flipper Length (mm)\", y=\"Body Mass (g)\")\n",
    "ax.plot(X, predicted_target, label=model.__class__.__name__, color=\"tab:orange\", linewidth=4)\n",
    "ax.legend()\n",
    "plt.show()"
   ]
  },
  {
   "cell_type": "markdown",
   "id": "6bd5e467",
   "metadata": {},
   "source": [
    "\n",
    "The linear regression model minimizes the error between true and predicted targets.\n",
    "A general term to describe this error is \"loss function\". For the linear regression,\n",
    "from scikit-learn, it specifically minimizes the least squared error:\n",
    "\n",
    "$$\n",
    "loss = (y - \\hat{y})^2\n",
    "$$\n",
    "\n",
    "or equivalently:\n",
    "\n",
    "$$\n",
    "loss = (y - X \\beta)^2\n",
    "$$\n",
    "\n",
    "Let's visualize this loss function:"
   ]
  },
  {
   "cell_type": "code",
   "execution_count": null,
   "id": "27bc444c",
   "metadata": {},
   "outputs": [],
   "source": [
    "def se_loss(true_target, predicted_target):\n",
    "    loss = (true_target - predicted_target) ** 2\n",
    "    return loss"
   ]
  },
  {
   "cell_type": "code",
   "execution_count": null,
   "id": "55ab8265",
   "metadata": {},
   "outputs": [],
   "source": [
    "import numpy as np\n",
    "\n",
    "xmin, xmax = -2, 2\n",
    "xx = np.linspace(xmin, xmax, 100)"
   ]
  },
  {
   "cell_type": "code",
   "execution_count": null,
   "id": "f91062ca",
   "metadata": {},
   "outputs": [],
   "source": [
    "plt.plot(xx, se_loss(0, xx), label=\"SE loss\")\n",
    "plt.legend()\n",
    "plt.show()"
   ]
  },
  {
   "cell_type": "markdown",
   "id": "22127866",
   "metadata": {},
   "source": [
    "\n",
    "The bell shape of the loss function heavily penalizes large errors, which\n",
    "significantly impacts the model fit."
   ]
  },
  {
   "cell_type": "markdown",
   "id": "29b9e9ae",
   "metadata": {},
   "source": [
    "\n",
    "**EXERCISE**\n",
    "\n",
    "1. Add an outlier to the dataset: a penguin with 230 mm flipper length and 300 g\n",
    "   body mass\n",
    "2. Plot the updated dataset\n",
    "3. Fit a `LinearRegression` model on this dataset, using `sample_weight`\n",
    "   to give the outlier 10x more weight than other samples\n",
    "4. Plot the model predictions\n",
    "\n",
    "How does the outlier affect the model?"
   ]
  },
  {
   "cell_type": "code",
   "execution_count": null,
   "id": "13adbdb7",
   "metadata": {},
   "outputs": [],
   "source": [
    "# Write your code here."
   ]
  },
  {
   "cell_type": "markdown",
   "id": "04a07f8c",
   "metadata": {},
   "source": [
    "\n",
    "Instead of squared loss, we now use the Huber loss through scikit-learn's\n",
    "`HuberRegressor`. We fit this model similarly to our previous approach."
   ]
  },
  {
   "cell_type": "code",
   "execution_count": null,
   "id": "a911f8c0",
   "metadata": {},
   "outputs": [],
   "source": [
    "from sklearn.linear_model import HuberRegressor\n",
    "\n",
    "sample_weight = np.ones_like(y)\n",
    "sample_weight[-1] = 10\n",
    "model = HuberRegressor()\n",
    "model.fit(X, y, sample_weight=sample_weight)\n",
    "predicted_target = model.predict(X)\n",
    "# -\n",
    "\n",
    "ax = data.plot.scatter(x=\"Flipper Length (mm)\", y=\"Body Mass (g)\")\n",
    "ax.plot(X, predicted_target, label=model.__class__.__name__, color=\"black\", linewidth=4)\n",
    "plt.legend()\n",
    "plt.show()"
   ]
  },
  {
   "cell_type": "markdown",
   "id": "e76a9e13",
   "metadata": {},
   "source": [
    "\n",
    "The Huber loss gives less weight to outliers compared to least squares."
   ]
  },
  {
   "cell_type": "markdown",
   "id": "b80c2edb",
   "metadata": {},
   "source": [
    "\n",
    "**EXERCISE**\n",
    "\n",
    "1. Read the `HuberRegressor` documentation\n",
    "2. Create a `huber_loss` function similar to `se_loss`\n",
    "3. Create an absolute loss function\n",
    "\n",
    "Explain why outliers affect Huber regression less than ordinary least squares."
   ]
  },
  {
   "cell_type": "code",
   "execution_count": null,
   "id": "29280671",
   "metadata": {},
   "outputs": [],
   "source": [
    "# Write your code here."
   ]
  },
  {
   "cell_type": "markdown",
   "id": "386d7f18",
   "metadata": {},
   "source": [
    "\n",
    "Huber and absolute losses penalize outliers less severely. This makes outliers less\n",
    "influential when finding the optimal $\\beta$ parameters. The `HuberRegressor`\n",
    "estimates the median rather than the mean.\n",
    "\n",
    "For other quantiles, scikit-learn offers the `QuantileRegressor`. It minimizes the\n",
    "pinball loss to estimate specific quantiles. Here's how to estimate the median:"
   ]
  },
  {
   "cell_type": "code",
   "execution_count": null,
   "id": "d8b8ddba",
   "metadata": {
    "lines_to_next_cell": 2
   },
   "outputs": [],
   "source": [
    "from sklearn.linear_model import QuantileRegressor\n",
    "\n",
    "model = QuantileRegressor(quantile=0.5)\n",
    "model.fit(X, y, sample_weight=sample_weight)\n",
    "predicted_target = model.predict(X)"
   ]
  },
  {
   "cell_type": "code",
   "execution_count": null,
   "id": "24510977",
   "metadata": {},
   "outputs": [],
   "source": [
    "ax = data.plot.scatter(x=\"Flipper Length (mm)\", y=\"Body Mass (g)\")\n",
    "ax.plot(X, predicted_target, label=model.__class__.__name__, color=\"black\", linewidth=4)\n",
    "ax.legend()\n",
    "plt.show()"
   ]
  },
  {
   "cell_type": "markdown",
   "id": "c57a9e76",
   "metadata": {},
   "source": [
    "\n",
    "The `QuantileRegressor` enables estimation of confidence intervals:"
   ]
  },
  {
   "cell_type": "code",
   "execution_count": null,
   "id": "e6718304",
   "metadata": {},
   "outputs": [],
   "source": [
    "model = QuantileRegressor(quantile=0.5, solver=\"highs\")\n",
    "model.fit(X, y, sample_weight=sample_weight)\n",
    "predicted_target_median = model.predict(X)\n",
    "\n",
    "model.set_params(quantile=0.90)\n",
    "model.fit(X, y, sample_weight=sample_weight)\n",
    "predicted_target_90 = model.predict(X)\n",
    "\n",
    "model.set_params(quantile=0.10)\n",
    "model.fit(X, y, sample_weight=sample_weight)\n",
    "predicted_target_10 = model.predict(X)"
   ]
  },
  {
   "cell_type": "code",
   "execution_count": null,
   "id": "9177d6d8",
   "metadata": {},
   "outputs": [],
   "source": [
    "ax = data.plot.scatter(x=\"Flipper Length (mm)\", y=\"Body Mass (g)\")\n",
    "ax.plot(\n",
    "    X,\n",
    "    predicted_target_median,\n",
    "    label=f\"{model.__class__.__name__} - median\",\n",
    "    color=\"black\",\n",
    "    linewidth=4,\n",
    ")\n",
    "ax.plot(\n",
    "    X,\n",
    "    predicted_target_90,\n",
    "    label=f\"{model.__class__.__name__} - 90th percentile\",\n",
    "    color=\"tab:orange\",\n",
    "    linewidth=4,\n",
    ")\n",
    "ax.plot(\n",
    "    X,\n",
    "    predicted_target_10,\n",
    "    label=f\"{model.__class__.__name__} - 10th percentile\",\n",
    "    color=\"tab:green\",\n",
    "    linewidth=4,\n",
    ")\n",
    "ax.legend(loc=\"center left\", bbox_to_anchor=(1, 0.5))\n",
    "plt.show()"
   ]
  },
  {
   "cell_type": "markdown",
   "id": "e65d1e45",
   "metadata": {},
   "source": [
    "\n",
    "This plot shows an 80% confidence interval around the median using the 10th and 90th\n",
    "percentiles."
   ]
  }
 ],
 "metadata": {
  "jupytext": {
   "cell_metadata_filter": "-all",
   "main_language": "python",
   "notebook_metadata_filter": "-all"
  }
 },
 "nbformat": 4,
 "nbformat_minor": 5
}
