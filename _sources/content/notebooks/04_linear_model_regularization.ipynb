{
 "cells": [
  {
   "cell_type": "markdown",
   "id": "85306e8d",
   "metadata": {},
   "source": [
    "\n",
    "# Regularization\n",
    "\n",
    "This notebook explores regularization in linear models.\n",
    "\n",
    "## Introductory example\n",
    "\n",
    "We demonstrate a common issue with correlated features when fitting linear models.\n",
    "\n",
    "We use the penguins dataset to illustrate this issue."
   ]
  },
  {
   "cell_type": "code",
   "execution_count": null,
   "id": "de1d867f",
   "metadata": {},
   "outputs": [],
   "source": [
    "# When using JupyterLite, uncomment and install the `skrub` package.\n",
    "%pip install skrub\n",
    "import matplotlib.pyplot as plt\n",
    "import skrub\n",
    "\n",
    "skrub.patch_display()  # makes nice display for pandas tables"
   ]
  },
  {
   "cell_type": "code",
   "execution_count": null,
   "id": "9996fa57",
   "metadata": {},
   "outputs": [],
   "source": [
    "import pandas as pd\n",
    "\n",
    "penguins = pd.read_csv(\"../datasets/penguins.csv\")\n",
    "penguins"
   ]
  },
  {
   "cell_type": "markdown",
   "id": "9846bdcd",
   "metadata": {},
   "source": [
    "\n",
    "We select features to predict penguin body mass. We remove rows with missing target values."
   ]
  },
  {
   "cell_type": "code",
   "execution_count": null,
   "id": "2e9cb976",
   "metadata": {},
   "outputs": [],
   "source": [
    "features = [\n",
    "    \"Island\",\n",
    "    \"Clutch Completion\",\n",
    "    \"Flipper Length (mm)\",\n",
    "    \"Culmen Length (mm)\",\n",
    "    \"Culmen Depth (mm)\",\n",
    "    \"Species\",\n",
    "    \"Sex\",\n",
    "]\n",
    "target = \"Body Mass (g)\"\n",
    "data, target = penguins[features], penguins[target]\n",
    "target = target.dropna()\n",
    "data = data.loc[target.index]\n",
    "data"
   ]
  },
  {
   "cell_type": "markdown",
   "id": "c1b34ed6",
   "metadata": {},
   "source": [
    "\n",
    "Let's evaluate a simple linear model using skrub's preprocessing."
   ]
  },
  {
   "cell_type": "code",
   "execution_count": null,
   "id": "d30e77b2",
   "metadata": {},
   "outputs": [],
   "source": [
    "from sklearn.linear_model import LinearRegression\n",
    "from sklearn.model_selection import KFold, cross_validate\n",
    "\n",
    "model = skrub.tabular_learner(estimator=LinearRegression())\n",
    "model.set_output(transform=\"pandas\")\n",
    "\n",
    "cv = KFold(n_splits=5, shuffle=True, random_state=42)\n",
    "cv_results = cross_validate(\n",
    "    model, data, target, cv=cv, return_estimator=True, return_train_score=True\n",
    ")\n",
    "pd.DataFrame(cv_results)[[\"train_score\", \"test_score\"]]"
   ]
  },
  {
   "cell_type": "markdown",
   "id": "c0126959",
   "metadata": {},
   "source": [
    "\n",
    "The test score looks good overall but performs poorly on one fold.\n",
    "Let's examine the coefficient values to understand why."
   ]
  },
  {
   "cell_type": "code",
   "execution_count": null,
   "id": "8cdb2692",
   "metadata": {},
   "outputs": [],
   "source": [
    "coefs = [est[-1].coef_ for est in cv_results[\"estimator\"]]\n",
    "coefs = pd.DataFrame(coefs, columns=cv_results[\"estimator\"][0][-1].feature_names_in_)\n",
    "coefs.plot.box(whis=[0, 100], vert=False)\n",
    "plt.show()"
   ]
  },
  {
   "cell_type": "markdown",
   "id": "f67a8ec1",
   "metadata": {},
   "source": [
    "\n",
    "**EXERCISE**\n",
    "\n",
    "What do you observe? What causes this behavior?\n",
    "Apply the preprocessing chain and check skrub's statistics on the resulting\n",
    "data to understand these coefficients."
   ]
  },
  {
   "cell_type": "code",
   "execution_count": null,
   "id": "c0331a4f",
   "metadata": {},
   "outputs": [],
   "source": [
    "# Write your code here."
   ]
  },
  {
   "cell_type": "markdown",
   "id": "f2dd3c61",
   "metadata": {},
   "source": [
    "\n",
    "## Ridge regressor - L2 regularization\n",
    "\n",
    "We saw that coefficients can grow arbitrarily large when features correlate.\n",
    "\n",
    "$$\n",
    "loss = (y - X \\beta)^2 + \\alpha \\|\\beta\\|_2\n",
    "$$\n",
    "\n",
    "L2 regularization forces weights toward zero. The parameter $\\alpha$ controls\n",
    "this shrinkage. Scikit-learn implements this as the Ridge model. Let's fit it\n",
    "and examine its effect on weights."
   ]
  },
  {
   "cell_type": "code",
   "execution_count": null,
   "id": "bbdc137e",
   "metadata": {},
   "outputs": [],
   "source": [
    "from sklearn.linear_model import Ridge\n",
    "\n",
    "model = skrub.tabular_learner(estimator=Ridge(alpha=1)).set_output(transform=\"pandas\")\n",
    "\n",
    "cv_results = cross_validate(\n",
    "    model, data, target, cv=cv, return_estimator=True, return_train_score=True\n",
    ")\n",
    "pd.DataFrame(cv_results)[[\"train_score\", \"test_score\"]]"
   ]
  },
  {
   "cell_type": "code",
   "execution_count": null,
   "id": "2504bc55",
   "metadata": {},
   "outputs": [],
   "source": [
    "coefs = [est[-1].coef_ for est in cv_results[\"estimator\"]]\n",
    "coefs = pd.DataFrame(coefs, columns=cv_results[\"estimator\"][0][-1].feature_names_in_)\n",
    "coefs.plot.box(whis=[0, 100], vert=False)\n",
    "plt.show()"
   ]
  },
  {
   "cell_type": "markdown",
   "id": "5a5e4ade",
   "metadata": {},
   "source": [
    "\n",
    "A small regularization solves the weight problem. We recover the original\n",
    "relationship:\n",
    "\n",
    "**EXERCISE**\n",
    "\n",
    "Try different $\\alpha$ values and examine how they affect the weights."
   ]
  },
  {
   "cell_type": "code",
   "execution_count": null,
   "id": "586c2ef4",
   "metadata": {},
   "outputs": [],
   "source": [
    "# Write your code here."
   ]
  },
  {
   "cell_type": "markdown",
   "id": "e210b69b",
   "metadata": {},
   "source": [
    "\n",
    "## Lasso regressor - L1 regularization\n",
    "\n",
    "L1 provides another regularization type. It follows this formula:\n",
    "\n",
    "$$\n",
    "loss = (y - X \\beta)^2 + \\alpha \\|\\beta\\|_1\n",
    "$$\n",
    "\n",
    "Scikit-learn implements this as the Lasso regressor."
   ]
  },
  {
   "cell_type": "markdown",
   "id": "6ddcdf11",
   "metadata": {},
   "source": [
    "\n",
    "**EXERCISE**\n",
    "\n",
    "Repeat the previous experiment with different $\\alpha$ values and examine how they\n",
    "affect the weights $\\beta$."
   ]
  },
  {
   "cell_type": "code",
   "execution_count": null,
   "id": "ff8ee036",
   "metadata": {},
   "outputs": [],
   "source": [
    "# Write your code here."
   ]
  },
  {
   "cell_type": "markdown",
   "id": "aedf7fd4",
   "metadata": {},
   "source": [
    "\n",
    "## Elastic net - Combining L2 and L1 regularization\n",
    "\n",
    "Combining L2 and L1 regularization offers unique benefits: it identifies important\n",
    "features while preventing non-zero coefficients from growing too large."
   ]
  },
  {
   "cell_type": "code",
   "execution_count": null,
   "id": "d885d7cf",
   "metadata": {},
   "outputs": [],
   "source": [
    "from sklearn.linear_model import ElasticNet\n",
    "\n",
    "model = skrub.tabular_learner(estimator=ElasticNet(alpha=10, l1_ratio=0.95))\n",
    "model.set_output(transform=\"pandas\")\n",
    "\n",
    "cv_results = cross_validate(\n",
    "    model, data, target, cv=cv, return_estimator=True, return_train_score=True\n",
    ")\n",
    "pd.DataFrame(cv_results)[[\"train_score\", \"test_score\"]]"
   ]
  },
  {
   "cell_type": "code",
   "execution_count": null,
   "id": "bd00d1d0",
   "metadata": {},
   "outputs": [],
   "source": [
    "coefs = [est[-1].coef_ for est in cv_results[\"estimator\"]]\n",
    "coefs = pd.DataFrame(coefs, columns=cv_results[\"estimator\"][0][-1].feature_names_in_)\n",
    "coefs.plot.box(whis=[0, 100], vert=False)\n",
    "plt.show()"
   ]
  },
  {
   "cell_type": "markdown",
   "id": "4a2aa8ff",
   "metadata": {},
   "source": [
    "\n",
    "## Hyperparameter tuning\n",
    "\n",
    "How do we choose the regularization parameter? The validation curve helps analyze\n",
    "single parameter effects. It plots scores versus parameter values.\n",
    "\n",
    "Let's use ValidationCurveDisplay to analyze how the alpha parameter affects\n",
    "Ridge regression."
   ]
  },
  {
   "cell_type": "code",
   "execution_count": null,
   "id": "1077a8e3",
   "metadata": {},
   "outputs": [],
   "source": [
    "model = skrub.tabular_learner(estimator=Ridge()).set_output(transform=\"pandas\")"
   ]
  },
  {
   "cell_type": "markdown",
   "id": "26a5273c",
   "metadata": {},
   "source": [
    "\n",
    "We need to find the parameter name for alpha in the model."
   ]
  },
  {
   "cell_type": "code",
   "execution_count": null,
   "id": "804796a9",
   "metadata": {},
   "outputs": [],
   "source": [
    "model.get_params()"
   ]
  },
  {
   "cell_type": "code",
   "execution_count": null,
   "id": "2c8b36fb",
   "metadata": {},
   "outputs": [],
   "source": [
    "import numpy as np\n",
    "from sklearn.model_selection import ValidationCurveDisplay\n",
    "\n",
    "disp = ValidationCurveDisplay.from_estimator(\n",
    "    model,\n",
    "    data,\n",
    "    target,\n",
    "    cv=cv,\n",
    "    std_display_style=\"errorbar\",\n",
    "    param_name=\"ridge__alpha\",\n",
    "    param_range=np.logspace(-3, 3, num=20),\n",
    "    n_jobs=2,\n",
    ")\n",
    "plt.show()"
   ]
  },
  {
   "cell_type": "markdown",
   "id": "cd77847b",
   "metadata": {},
   "source": [
    "\n",
    "Too much regularization degrades model performance.\n",
    "\n",
    "**EXERCISE**\n",
    "\n",
    "Try a very small alpha (e.g. `1e-16`) and observe its effect on the\n",
    "validation curve."
   ]
  },
  {
   "cell_type": "code",
   "execution_count": null,
   "id": "e1328441",
   "metadata": {},
   "outputs": [],
   "source": [
    "# Write your code here."
   ]
  },
  {
   "cell_type": "markdown",
   "id": "11730b8c",
   "metadata": {},
   "source": [
    "\n",
    "In practice, we often use grid or random search instead of validation curves\n",
    "to choose regularization parameters. These methods run internal cross-validation\n",
    "to select the best-performing model. Let's demonstrate random search."
   ]
  },
  {
   "cell_type": "code",
   "execution_count": null,
   "id": "49d24f71",
   "metadata": {},
   "outputs": [],
   "source": [
    "from sklearn.model_selection import train_test_split\n",
    "\n",
    "data_train, data_test, target_train, target_test = train_test_split(\n",
    "    data, target, random_state=42\n",
    ")"
   ]
  },
  {
   "cell_type": "code",
   "execution_count": null,
   "id": "fab3e80e",
   "metadata": {},
   "outputs": [],
   "source": [
    "from scipy.stats import loguniform\n",
    "from sklearn.model_selection import RandomizedSearchCV\n",
    "\n",
    "param_distributions = {\"ridge__alpha\": loguniform(1e-3, 1e3)}\n",
    "search = RandomizedSearchCV(model, param_distributions, n_iter=10, cv=cv)\n",
    "search.fit(data_train, target_train)"
   ]
  },
  {
   "cell_type": "code",
   "execution_count": null,
   "id": "f4ab87b8",
   "metadata": {},
   "outputs": [],
   "source": [
    "search.best_params_"
   ]
  },
  {
   "cell_type": "code",
   "execution_count": null,
   "id": "e57cfe94",
   "metadata": {},
   "outputs": [],
   "source": [
    "pd.DataFrame(search.cv_results_)"
   ]
  },
  {
   "cell_type": "markdown",
   "id": "ba8eccd5",
   "metadata": {},
   "source": [
    "\n",
    "This approach enables nested cross-validation. The inner loop selects parameters\n",
    "while the outer loop evaluates model performance."
   ]
  },
  {
   "cell_type": "code",
   "execution_count": null,
   "id": "5f625225",
   "metadata": {},
   "outputs": [],
   "source": [
    "cv_results = cross_validate(\n",
    "    search, data, target, cv=cv, return_estimator=True, return_train_score=True\n",
    ")\n",
    "pd.DataFrame(cv_results)[[\"train_score\", \"test_score\"]]"
   ]
  },
  {
   "cell_type": "markdown",
   "id": "96828711",
   "metadata": {},
   "source": [
    "\n",
    "Some scikit-learn models efficiently search hyperparameters internally. Models with\n",
    "\"CV\" in their name, like RidgeCV, automatically find optimal regularization\n",
    "parameters."
   ]
  },
  {
   "cell_type": "code",
   "execution_count": null,
   "id": "a29e1ae2",
   "metadata": {},
   "outputs": [],
   "source": [
    "from sklearn.linear_model import RidgeCV\n",
    "\n",
    "model = skrub.tabular_learner(estimator=RidgeCV(alphas=np.logspace(-3, 3, num=100)))\n",
    "model.set_output(transform=\"pandas\")\n",
    "\n",
    "cv_results = cross_validate(\n",
    "    model, data, target, cv=cv, return_estimator=True, return_train_score=True\n",
    ")\n",
    "pd.DataFrame(cv_results)[[\"train_score\", \"test_score\"]]"
   ]
  },
  {
   "cell_type": "code",
   "execution_count": null,
   "id": "f671c863",
   "metadata": {},
   "outputs": [],
   "source": [
    "alphas = [est[-1].alpha_ for est in cv_results[\"estimator\"]]\n",
    "alphas"
   ]
  },
  {
   "cell_type": "markdown",
   "id": "8c5fab15",
   "metadata": {},
   "source": [
    "\n",
    "## What about classification?\n",
    "\n",
    "Classification handles regularization differently. Instead of creating new estimators,\n",
    "regularization becomes a model parameter. LogisticRegression and LinearSVC offer\n",
    "two main models. Both use penalty and C parameters (C inverts regression's alpha).\n",
    "\n",
    "We'll explore parameter C with LogisticRegression. First, let's load classification\n",
    "data to predict penguin species from culmen measurements."
   ]
  },
  {
   "cell_type": "code",
   "execution_count": null,
   "id": "86578251",
   "metadata": {},
   "outputs": [],
   "source": [
    "data = pd.read_csv(\"../datasets/penguins_classification.csv\")\n",
    "data = data[data[\"Species\"].isin([\"Adelie\", \"Chinstrap\"])]\n",
    "data[\"Species\"] = data[\"Species\"].astype(\"category\")\n",
    "data.head()"
   ]
  },
  {
   "cell_type": "code",
   "execution_count": null,
   "id": "51e135dc",
   "metadata": {},
   "outputs": [],
   "source": [
    "X, y = data[[\"Culmen Length (mm)\", \"Culmen Depth (mm)\"]], data[\"Species\"]"
   ]
  },
  {
   "cell_type": "code",
   "execution_count": null,
   "id": "24627864",
   "metadata": {},
   "outputs": [],
   "source": [
    "import matplotlib.pyplot as plt\n",
    "\n",
    "data.plot.scatter(\n",
    "    x=\"Culmen Length (mm)\",\n",
    "    y=\"Culmen Depth (mm)\",\n",
    "    c=\"Species\",\n",
    "    edgecolor=\"black\",\n",
    "    s=50,\n",
    ")\n",
    "plt.show()"
   ]
  },
  {
   "cell_type": "markdown",
   "id": "62cb1018",
   "metadata": {},
   "source": [
    "\n",
    "**QUESTION**\n",
    "\n",
    "What regularization does LogisticRegression use by default? Check the documentation.\n",
    "\n",
    "Let's fit a model and visualize its decision boundary."
   ]
  },
  {
   "cell_type": "code",
   "execution_count": null,
   "id": "c0d7d037",
   "metadata": {},
   "outputs": [],
   "source": [
    "from sklearn.linear_model import LogisticRegression\n",
    "\n",
    "model = LogisticRegression()\n",
    "model.fit(X, y)"
   ]
  },
  {
   "cell_type": "code",
   "execution_count": null,
   "id": "db32d7d2",
   "metadata": {},
   "outputs": [],
   "source": [
    "from sklearn.inspection import DecisionBoundaryDisplay\n",
    "\n",
    "display = DecisionBoundaryDisplay.from_estimator(\n",
    "    model,\n",
    "    X,\n",
    "    response_method=\"decision_function\",\n",
    "    cmap=plt.cm.RdBu,\n",
    "    plot_method=\"pcolormesh\",\n",
    "    shading=\"auto\",\n",
    ")\n",
    "data.plot.scatter(\n",
    "    x=\"Culmen Length (mm)\",\n",
    "    y=\"Culmen Depth (mm)\",\n",
    "    c=\"Species\",\n",
    "    edgecolor=\"black\",\n",
    "    s=50,\n",
    "    ax=display.ax_,\n",
    ")\n",
    "plt.show()"
   ]
  },
  {
   "cell_type": "code",
   "execution_count": null,
   "id": "4a2daa5a",
   "metadata": {},
   "outputs": [],
   "source": [
    "coef = pd.Series(model.coef_[0], index=X.columns)\n",
    "coef.plot.barh()\n",
    "plt.show()"
   ]
  },
  {
   "cell_type": "markdown",
   "id": "8471d538",
   "metadata": {},
   "source": [
    "\n",
    "This example establishes a baseline for studying parameter C effects.\n",
    "The logistic regression loss function is:\n",
    "\n",
    "$$\n",
    "loss = \\frac{1 - \\rho}{2} w^T w + \\rho \\|w\\|_1 + C \\log ( \\exp (y_i (X \\beta)) + 1)\n",
    "$$"
   ]
  },
  {
   "cell_type": "markdown",
   "id": "de9276a7",
   "metadata": {},
   "source": [
    "\n",
    "**EXERCISE**\n",
    "\n",
    "Fit models with different C values and examine how they affect coefficients\n",
    "and decision boundaries."
   ]
  },
  {
   "cell_type": "code",
   "execution_count": null,
   "id": "f711611d",
   "metadata": {},
   "outputs": [],
   "source": [
    "# Write your code here."
   ]
  },
  {
   "cell_type": "markdown",
   "id": "62c29ea8",
   "metadata": {},
   "source": [
    "\n",
    "The loss formula shows C affects the data term (error between true and predicted\n",
    "targets). In regression, alpha affects the weights instead. This explains why C\n",
    "inversely relates to alpha."
   ]
  }
 ],
 "metadata": {
  "jupytext": {
   "cell_metadata_filter": "-all",
   "main_language": "python",
   "notebook_metadata_filter": "-all"
  }
 },
 "nbformat": 4,
 "nbformat_minor": 5
}
