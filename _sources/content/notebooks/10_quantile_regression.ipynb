{
 "cells": [
  {
   "cell_type": "markdown",
   "id": "d5c149db",
   "metadata": {},
   "source": [
    "\n",
    "# Quantile regression"
   ]
  },
  {
   "cell_type": "code",
   "execution_count": null,
   "id": "84c8a52e",
   "metadata": {},
   "outputs": [],
   "source": [
    "# When using JupyterLite, uncomment and install the `skrub` package.\n",
    "%pip install skrub\n",
    "import matplotlib.pyplot as plt\n",
    "import skrub\n",
    "\n",
    "skrub.patch_display()"
   ]
  },
  {
   "cell_type": "code",
   "execution_count": null,
   "id": "a1a70112",
   "metadata": {},
   "outputs": [],
   "source": [
    "import pandas as pd\n",
    "\n",
    "penguins = pd.read_csv(\"../datasets/penguins_regression.csv\")\n",
    "penguins"
   ]
  },
  {
   "cell_type": "code",
   "execution_count": null,
   "id": "144c0c41",
   "metadata": {},
   "outputs": [],
   "source": [
    "X = penguins[[\"Flipper Length (mm)\"]]\n",
    "y = penguins[\"Body Mass (g)\"]"
   ]
  },
  {
   "cell_type": "code",
   "execution_count": null,
   "id": "28c019f7",
   "metadata": {},
   "outputs": [],
   "source": [
    "from sklearn.linear_model import LinearRegression\n",
    "\n",
    "model_estimate_mean = LinearRegression()\n",
    "model_estimate_mean.fit(X, y)"
   ]
  },
  {
   "cell_type": "code",
   "execution_count": null,
   "id": "911a2fdc",
   "metadata": {},
   "outputs": [],
   "source": [
    "import numpy as np\n",
    "\n",
    "X_test = pd.DataFrame(\n",
    "    {\"Flipper Length (mm)\": np.linspace(X.min(axis=None), X.max(axis=None), 100)}\n",
    ")\n",
    "y_pred_mean = model_estimate_mean.predict(X_test)"
   ]
  },
  {
   "cell_type": "code",
   "execution_count": null,
   "id": "043bc668",
   "metadata": {},
   "outputs": [],
   "source": [
    "_, ax = plt.subplots()\n",
    "penguins.plot.scatter(x=\"Flipper Length (mm)\", y=\"Body Mass (g)\", ax=ax, alpha=0.5)\n",
    "ax.plot(\n",
    "    X_test[\"Flipper Length (mm)\"],\n",
    "    y_pred_mean,\n",
    "    color=\"tab:orange\",\n",
    "    label=\"predicted mean\",\n",
    "    linewidth=3,\n",
    ")\n",
    "ax.legend()\n",
    "plt.show()"
   ]
  },
  {
   "cell_type": "code",
   "execution_count": null,
   "id": "61446ce4",
   "metadata": {},
   "outputs": [],
   "source": [
    "from sklearn.linear_model import QuantileRegressor\n",
    "\n",
    "model_estimate_median = QuantileRegressor(quantile=0.5)\n",
    "model_estimate_median.fit(X, y)\n",
    "y_pred_median = model_estimate_median.predict(X_test)"
   ]
  },
  {
   "cell_type": "code",
   "execution_count": null,
   "id": "582c6d18",
   "metadata": {},
   "outputs": [],
   "source": [
    "_, ax = plt.subplots()\n",
    "penguins.plot.scatter(x=\"Flipper Length (mm)\", y=\"Body Mass (g)\", ax=ax, alpha=0.5)\n",
    "ax.plot(\n",
    "    X_test[\"Flipper Length (mm)\"],\n",
    "    y_pred_mean,\n",
    "    color=\"tab:orange\",\n",
    "    label=\"predicted mean\",\n",
    "    linewidth=3,\n",
    ")\n",
    "ax.plot(\n",
    "    X_test[\"Flipper Length (mm)\"],\n",
    "    y_pred_median,\n",
    "    color=\"tab:green\",\n",
    "    label=\"predicted median\",\n",
    "    linewidth=3,\n",
    "    linestyle=\"--\",\n",
    ")\n",
    "ax.legend()\n",
    "plt.show()"
   ]
  },
  {
   "cell_type": "code",
   "execution_count": null,
   "id": "75c54b92",
   "metadata": {},
   "outputs": [],
   "source": [
    "model_estimate_10 = QuantileRegressor(quantile=0.1)\n",
    "model_estimate_90 = QuantileRegressor(quantile=0.9)\n",
    "\n",
    "model_estimate_10.fit(X, y)\n",
    "model_estimate_90.fit(X, y)\n",
    "\n",
    "y_pred_10 = model_estimate_10.predict(X_test)\n",
    "y_pred_90 = model_estimate_90.predict(X_test)"
   ]
  },
  {
   "cell_type": "code",
   "execution_count": null,
   "id": "d5446cdf",
   "metadata": {},
   "outputs": [],
   "source": [
    "_, ax = plt.subplots()\n",
    "penguins.plot.scatter(x=\"Flipper Length (mm)\", y=\"Body Mass (g)\", ax=ax, alpha=0.5)\n",
    "ax.plot(\n",
    "    X_test[\"Flipper Length (mm)\"],\n",
    "    y_pred_mean,\n",
    "    color=\"tab:orange\",\n",
    "    label=\"predicted mean\",\n",
    "    linewidth=3,\n",
    ")\n",
    "ax.plot(\n",
    "    X_test[\"Flipper Length (mm)\"],\n",
    "    y_pred_median,\n",
    "    color=\"tab:green\",\n",
    "    label=\"predicted median\",\n",
    "    linewidth=3,\n",
    "    linestyle=\"--\",\n",
    ")\n",
    "ax.fill_between(\n",
    "    X_test[\"Flipper Length (mm)\"],\n",
    "    y_pred_10,\n",
    "    y_pred_90,\n",
    "    alpha=0.2,\n",
    "    label=\"80% coverage interval\",\n",
    ")\n",
    "ax.legend()\n",
    "plt.show()"
   ]
  },
  {
   "cell_type": "code",
   "execution_count": null,
   "id": "b3f29cde",
   "metadata": {},
   "outputs": [],
   "source": [
    "from sklearn.ensemble import HistGradientBoostingRegressor\n",
    "\n",
    "model_estimate_mean = HistGradientBoostingRegressor(\n",
    "    categorical_features=\"from_dtype\", loss=\"squared_error\"\n",
    ")\n",
    "model_estimate_mean.fit(X, y)"
   ]
  },
  {
   "cell_type": "code",
   "execution_count": null,
   "id": "d1400a21",
   "metadata": {},
   "outputs": [],
   "source": [
    "import numpy as np\n",
    "\n",
    "X_test = pd.DataFrame(\n",
    "    {\"Flipper Length (mm)\": np.linspace(X.min(axis=None), X.max(axis=None), 100)}\n",
    ")\n",
    "y_pred_mean = model_estimate_mean.predict(X_test)"
   ]
  },
  {
   "cell_type": "code",
   "execution_count": null,
   "id": "9096865f",
   "metadata": {},
   "outputs": [],
   "source": [
    "import matplotlib.pyplot as plt\n",
    "\n",
    "_, ax = plt.subplots()\n",
    "penguins.plot.scatter(x=\"Flipper Length (mm)\", y=\"Body Mass (g)\", ax=ax, alpha=0.5)\n",
    "ax.plot(\n",
    "    X_test[\"Flipper Length (mm)\"],\n",
    "    y_pred_mean,\n",
    "    color=\"tab:orange\",\n",
    "    label=\"predicted mean\",\n",
    "    linewidth=3,\n",
    ")\n",
    "ax.legend()\n",
    "plt.show()"
   ]
  },
  {
   "cell_type": "code",
   "execution_count": null,
   "id": "92a48131",
   "metadata": {},
   "outputs": [],
   "source": [
    "model_estimate_median = HistGradientBoostingRegressor(\n",
    "    categorical_features=\"from_dtype\", loss=\"quantile\", quantile=0.5\n",
    ")\n",
    "model_estimate_median.fit(X, y)\n",
    "y_pred_median = model_estimate_median.predict(X_test)"
   ]
  },
  {
   "cell_type": "code",
   "execution_count": null,
   "id": "b32a4fbe",
   "metadata": {},
   "outputs": [],
   "source": [
    "_, ax = plt.subplots()\n",
    "penguins.plot.scatter(x=\"Flipper Length (mm)\", y=\"Body Mass (g)\", ax=ax, alpha=0.5)\n",
    "ax.plot(\n",
    "    X_test[\"Flipper Length (mm)\"],\n",
    "    y_pred_mean,\n",
    "    color=\"tab:orange\",\n",
    "    label=\"predicted mean\",\n",
    "    linewidth=3,\n",
    ")\n",
    "ax.plot(\n",
    "    X_test[\"Flipper Length (mm)\"],\n",
    "    y_pred_median,\n",
    "    color=\"tab:green\",\n",
    "    label=\"predicted median\",\n",
    "    linewidth=3,\n",
    "    linestyle=\"--\",\n",
    ")\n",
    "ax.legend()\n",
    "plt.show()"
   ]
  },
  {
   "cell_type": "code",
   "execution_count": null,
   "id": "953601ca",
   "metadata": {},
   "outputs": [],
   "source": [
    "model_estimate_10 = HistGradientBoostingRegressor(\n",
    "    categorical_features=\"from_dtype\", loss=\"quantile\", quantile=0.1\n",
    ")\n",
    "model_estimate_90 = HistGradientBoostingRegressor(\n",
    "    categorical_features=\"from_dtype\", loss=\"quantile\", quantile=0.9\n",
    ")\n",
    "\n",
    "model_estimate_10.fit(X, y)\n",
    "model_estimate_90.fit(X, y)\n",
    "\n",
    "y_pred_10 = model_estimate_10.predict(X_test)\n",
    "y_pred_90 = model_estimate_90.predict(X_test)"
   ]
  },
  {
   "cell_type": "code",
   "execution_count": null,
   "id": "b2225d05",
   "metadata": {},
   "outputs": [],
   "source": [
    "_, ax = plt.subplots()\n",
    "penguins.plot.scatter(x=\"Flipper Length (mm)\", y=\"Body Mass (g)\", ax=ax, alpha=0.5)\n",
    "ax.plot(\n",
    "    X_test[\"Flipper Length (mm)\"],\n",
    "    y_pred_mean,\n",
    "    color=\"tab:orange\",\n",
    "    label=\"predicted mean\",\n",
    "    linewidth=3,\n",
    ")\n",
    "ax.plot(\n",
    "    X_test[\"Flipper Length (mm)\"],\n",
    "    y_pred_median,\n",
    "    color=\"tab:green\",\n",
    "    label=\"predicted median\",\n",
    "    linewidth=3,\n",
    "    linestyle=\"--\",\n",
    ")\n",
    "ax.fill_between(\n",
    "    X_test[\"Flipper Length (mm)\"],\n",
    "    y_pred_10,\n",
    "    y_pred_90,\n",
    "    alpha=0.2,\n",
    "    label=\"80% coverage interval\",\n",
    ")\n",
    "ax.legend()\n",
    "plt.show()"
   ]
  }
 ],
 "metadata": {
  "jupytext": {
   "cell_metadata_filter": "-all",
   "main_language": "python",
   "notebook_metadata_filter": "-all"
  }
 },
 "nbformat": 4,
 "nbformat_minor": 5
}
