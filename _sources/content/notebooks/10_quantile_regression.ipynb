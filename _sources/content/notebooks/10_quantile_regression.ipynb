{
 "cells": [
  {
   "cell_type": "markdown",
   "id": "1b5300e9",
   "metadata": {},
   "source": [
    "\n",
    "# Quantile regression\n",
    "\n",
    "In this notebook, we go into more details on how to predict intervals with the\n",
    "available techniques in scikit-learn.\n",
    "\n",
    "Note that we will go only in a subset of available techniques. For instance, conformal\n",
    "predictions are design for this specific task and you can have a look at packages as\n",
    "MAPIE to have a broader coverage: https://github.com/scikit-learn-contrib/MAPIE.\n",
    "\n",
    "## Predicting intervals with linear models\n",
    "\n",
    "In this section, we come back to linear models and recall a way to predict intervals\n",
    "with quantile regression.\n",
    "\n",
    "First, let's load our penguins dataset for our regression task."
   ]
  },
  {
   "cell_type": "code",
   "execution_count": null,
   "id": "e9cecea4",
   "metadata": {},
   "outputs": [],
   "source": [
    "# When using JupyterLite, uncomment and install the `skrub` package.\n",
    "%pip install skrub\n",
    "import matplotlib.pyplot as plt\n",
    "import skrub\n",
    "\n",
    "skrub.patch_display()"
   ]
  },
  {
   "cell_type": "code",
   "execution_count": null,
   "id": "6b901ef8",
   "metadata": {},
   "outputs": [],
   "source": [
    "import pandas as pd\n",
    "\n",
    "penguins = pd.read_csv(\"../datasets/penguins_regression.csv\")\n",
    "penguins"
   ]
  },
  {
   "cell_type": "markdown",
   "id": "1f2d7d1a",
   "metadata": {},
   "source": [
    "\n",
    "In this dataset, the goal is to predict the body mass of a penguin given its flipper\n",
    "length."
   ]
  },
  {
   "cell_type": "code",
   "execution_count": null,
   "id": "7c2e898b",
   "metadata": {},
   "outputs": [],
   "source": [
    "X = penguins[[\"Flipper Length (mm)\"]]\n",
    "y = penguins[\"Body Mass (g)\"]"
   ]
  },
  {
   "cell_type": "markdown",
   "id": "8cb5b30b",
   "metadata": {},
   "source": [
    "\n",
    "When we studied linear models, we saw that the `LinearRegression` is an estimator that\n",
    "minimizes the mean squared error and thus predicts the conditional mean of the target.\n",
    "\n",
    "Here, let's fit this model and predict severals data points between the minimum and\n",
    "maximum flipper length."
   ]
  },
  {
   "cell_type": "code",
   "execution_count": null,
   "id": "2dd89ce5",
   "metadata": {},
   "outputs": [],
   "source": [
    "from sklearn.linear_model import LinearRegression\n",
    "\n",
    "model_estimate_mean = LinearRegression()\n",
    "model_estimate_mean.fit(X, y)"
   ]
  },
  {
   "cell_type": "code",
   "execution_count": null,
   "id": "8ecd46be",
   "metadata": {},
   "outputs": [],
   "source": [
    "import numpy as np\n",
    "\n",
    "X_test = pd.DataFrame(\n",
    "    {\"Flipper Length (mm)\": np.linspace(X.min(axis=None), X.max(axis=None), 100)}\n",
    ")\n",
    "y_pred_mean = model_estimate_mean.predict(X_test)"
   ]
  },
  {
   "cell_type": "code",
   "execution_count": null,
   "id": "d8c4f868",
   "metadata": {},
   "outputs": [],
   "source": [
    "_, ax = plt.subplots()\n",
    "penguins.plot.scatter(x=\"Flipper Length (mm)\", y=\"Body Mass (g)\", ax=ax, alpha=0.5)\n",
    "ax.plot(\n",
    "    X_test[\"Flipper Length (mm)\"],\n",
    "    y_pred_mean,\n",
    "    color=\"tab:orange\",\n",
    "    label=\"predicted mean\",\n",
    "    linewidth=3,\n",
    ")\n",
    "ax.legend()\n",
    "plt.show()"
   ]
  },
  {
   "cell_type": "markdown",
   "id": "94fe49e1",
   "metadata": {},
   "source": [
    "\n",
    "We discussed that the mean estimator could be sensitive to outliers and that sometimes\n",
    "we might prefer to get a more robust estimator such as the median.\n",
    "\n",
    "In this case, we can use the `QuantileRegressor` that minimizes the mean absolute\n",
    "error and thus predicts the conditional median."
   ]
  },
  {
   "cell_type": "code",
   "execution_count": null,
   "id": "55936a2e",
   "metadata": {},
   "outputs": [],
   "source": [
    "from sklearn.linear_model import QuantileRegressor\n",
    "\n",
    "model_estimate_median = QuantileRegressor(quantile=0.5)\n",
    "model_estimate_median.fit(X, y)\n",
    "y_pred_median = model_estimate_median.predict(X_test)"
   ]
  },
  {
   "cell_type": "code",
   "execution_count": null,
   "id": "3527bb5c",
   "metadata": {},
   "outputs": [],
   "source": [
    "_, ax = plt.subplots()\n",
    "penguins.plot.scatter(x=\"Flipper Length (mm)\", y=\"Body Mass (g)\", ax=ax, alpha=0.5)\n",
    "ax.plot(\n",
    "    X_test[\"Flipper Length (mm)\"],\n",
    "    y_pred_mean,\n",
    "    color=\"tab:orange\",\n",
    "    label=\"predicted mean\",\n",
    "    linewidth=3,\n",
    ")\n",
    "ax.plot(\n",
    "    X_test[\"Flipper Length (mm)\"],\n",
    "    y_pred_median,\n",
    "    color=\"tab:green\",\n",
    "    label=\"predicted median\",\n",
    "    linewidth=3,\n",
    "    linestyle=\"--\",\n",
    ")\n",
    "ax.legend()\n",
    "plt.show()"
   ]
  },
  {
   "cell_type": "markdown",
   "id": "b9f6ee98",
   "metadata": {},
   "source": [
    "\n",
    "When it comes to confidence intervals, we might be interested to get a prediction of\n",
    "some given quantiles. So we would like to generalize the quantile regression to get\n",
    "other quantiles than the median. Fortunately, the pinball loss is a generalization of\n",
    "the mean absolute error for any quantile.\n",
    "\n",
    "Indeed, using the `quantile` parameter, we can set the quantile that we want to\n",
    "predict. So if we are interested to get a 80% prediction interval, we can predict the\n",
    "10th and 90th percentiles."
   ]
  },
  {
   "cell_type": "code",
   "execution_count": null,
   "id": "b8a11675",
   "metadata": {},
   "outputs": [],
   "source": [
    "model_estimate_10 = QuantileRegressor(quantile=0.1)\n",
    "model_estimate_90 = QuantileRegressor(quantile=0.9)\n",
    "\n",
    "model_estimate_10.fit(X, y)\n",
    "model_estimate_90.fit(X, y)\n",
    "\n",
    "y_pred_10 = model_estimate_10.predict(X_test)\n",
    "y_pred_90 = model_estimate_90.predict(X_test)"
   ]
  },
  {
   "cell_type": "code",
   "execution_count": null,
   "id": "ae736a30",
   "metadata": {},
   "outputs": [],
   "source": [
    "_, ax = plt.subplots()\n",
    "penguins.plot.scatter(x=\"Flipper Length (mm)\", y=\"Body Mass (g)\", ax=ax, alpha=0.5)\n",
    "ax.plot(\n",
    "    X_test[\"Flipper Length (mm)\"],\n",
    "    y_pred_mean,\n",
    "    color=\"tab:orange\",\n",
    "    label=\"predicted mean\",\n",
    "    linewidth=3,\n",
    ")\n",
    "ax.plot(\n",
    "    X_test[\"Flipper Length (mm)\"],\n",
    "    y_pred_median,\n",
    "    color=\"tab:green\",\n",
    "    label=\"predicted median\",\n",
    "    linewidth=3,\n",
    "    linestyle=\"--\",\n",
    ")\n",
    "ax.fill_between(\n",
    "    X_test[\"Flipper Length (mm)\"],\n",
    "    y_pred_10,\n",
    "    y_pred_90,\n",
    "    alpha=0.2,\n",
    "    label=\"80% coverage interval\",\n",
    ")\n",
    "ax.legend()\n",
    "plt.show()"
   ]
  },
  {
   "cell_type": "markdown",
   "id": "74dbf8b3",
   "metadata": {},
   "source": [
    "\n",
    "## Predicting intervals with tree-based models\n",
    "\n",
    "**Exercise**:\n",
    "\n",
    "Now, this is your turn to repeat the previous experiment using the\n",
    "`HistGradientBoostingRegressor`. You will have to read the documentation and check\n",
    "how to change the parameters to optimize the right loss function.\n",
    "\n",
    "Plot the conditional mean, median and 80% prediction interval."
   ]
  },
  {
   "cell_type": "code",
   "execution_count": null,
   "id": "0051f6b0",
   "metadata": {},
   "outputs": [],
   "source": [
    "# Write your code here."
   ]
  }
 ],
 "metadata": {
  "jupytext": {
   "cell_metadata_filter": "-all",
   "main_language": "python",
   "notebook_metadata_filter": "-all"
  }
 },
 "nbformat": 4,
 "nbformat_minor": 5
}
