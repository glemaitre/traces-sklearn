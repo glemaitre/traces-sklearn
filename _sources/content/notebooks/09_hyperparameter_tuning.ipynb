{
 "cells": [
  {
   "cell_type": "markdown",
   "id": "9d081d14",
   "metadata": {},
   "source": [
    "\n",
    "# Hyperparameters tuning\n",
    "\n",
    "Previous notebooks showed how model parameters impact statistical performance. We want\n",
    "to optimize these parameters to achieve the best possible model performance. This\n",
    "optimization process is called hyperparameter tuning.\n",
    "\n",
    "This notebook demonstrates several methods to tune model hyperparameters.\n",
    "\n",
    "## Introductory example\n",
    "\n",
    "We revisit an example from the linear models notebook about the impact of the $\\alpha$\n",
    "parameter in a `Ridge` model. The $\\alpha$ parameter controls model regularization\n",
    "strength. No general rule exists for selecting a good $\\alpha$ value - it depends on\n",
    "the specific dataset.\n",
    "\n",
    "Let's load a dataset for regression:"
   ]
  },
  {
   "cell_type": "code",
   "execution_count": null,
   "id": "d1f818d0",
   "metadata": {},
   "outputs": [],
   "source": [
    "# When using JupyterLite, uncomment and install the `skrub` and `pyodide-http` packages.\n",
    "%pip install skrub\n",
    "%pip install pyodide-http\n",
    "import matplotlib.pyplot as plt\n",
    "import skrub\n",
    "\n",
    "# import pyodide_http\n",
    "# pyodide_http.patch_all()\n",
    "\n",
    "skrub.patch_display()  # makes nice display for pandas tables"
   ]
  },
  {
   "cell_type": "code",
   "execution_count": null,
   "id": "27109fd9",
   "metadata": {},
   "outputs": [],
   "source": [
    "from sklearn.datasets import fetch_california_housing\n",
    "\n",
    "X, y = fetch_california_housing(return_X_y=True, as_frame=True)\n",
    "X"
   ]
  },
  {
   "cell_type": "code",
   "execution_count": null,
   "id": "eced83c5",
   "metadata": {},
   "outputs": [],
   "source": [
    "y"
   ]
  },
  {
   "cell_type": "markdown",
   "id": "6947c203",
   "metadata": {},
   "source": [
    "\n",
    "Now we define a `Ridge` model that processes data by adding feature interactions using\n",
    "a `PolynomialFeatures` transformer."
   ]
  },
  {
   "cell_type": "code",
   "execution_count": null,
   "id": "d142b36e",
   "metadata": {},
   "outputs": [],
   "source": [
    "from sklearn.preprocessing import StandardScaler\n",
    "from sklearn.preprocessing import PolynomialFeatures\n",
    "from sklearn.linear_model import Ridge\n",
    "from sklearn.pipeline import Pipeline\n",
    "\n",
    "model = Pipeline(\n",
    "    [\n",
    "        (\"poly\", PolynomialFeatures()),\n",
    "        (\"scaler\", StandardScaler()),\n",
    "        (\"ridge\", Ridge()),\n",
    "    ]\n",
    ")\n",
    "model"
   ]
  },
  {
   "cell_type": "markdown",
   "id": "e8d27558",
   "metadata": {},
   "source": [
    "\n",
    "We start with scikit-learn's default parameters. Let's evaluate this basic model:"
   ]
  },
  {
   "cell_type": "code",
   "execution_count": null,
   "id": "ba2a2546",
   "metadata": {},
   "outputs": [],
   "source": [
    "import pandas as pd\n",
    "from sklearn.model_selection import cross_validate, KFold\n",
    "\n",
    "cv = KFold(n_splits=10, shuffle=True, random_state=42)\n",
    "cv_results = cross_validate(model, X, y, cv=cv)\n",
    "cv_results = pd.DataFrame(cv_results)\n",
    "cv_results"
   ]
  },
  {
   "cell_type": "code",
   "execution_count": null,
   "id": "42a9ed63",
   "metadata": {},
   "outputs": [],
   "source": [
    "cv_results.aggregate([\"mean\", \"std\"])"
   ]
  },
  {
   "cell_type": "markdown",
   "id": "a5d55047",
   "metadata": {},
   "source": [
    "\n",
    "Nothing indicates our pipeline achieves optimal performance. The `PolynomialFeatures`\n",
    "degree might need adjustment or the `Ridge` regressor might need different\n",
    "regularization. Let's examine which parameters we could tune:"
   ]
  },
  {
   "cell_type": "code",
   "execution_count": null,
   "id": "26482d1a",
   "metadata": {},
   "outputs": [],
   "source": [
    "for params in model.get_params():\n",
    "    print(params)"
   ]
  },
  {
   "cell_type": "markdown",
   "id": "f6045d5b",
   "metadata": {},
   "source": [
    "\n",
    "Two key parameters are `scaler__degree` and `ridge__alpha`. We will find\n",
    "their optimal values for this dataset.\n",
    "\n",
    "## Manual hyperparameters search\n",
    "\n",
    "Before exploring scikit-learn's automated tuning tools, we implement a simplified\n",
    "manual version.\n",
    "\n",
    "**EXERCISE**:\n",
    "\n",
    "1. Create nested `for` loops to try all parameter combinations defined in\n",
    "   `parameter_grid`\n",
    "2. In the inner loop, use cross-validation on the training set to get an array of\n",
    "   scores\n",
    "3. Compute the mean and standard deviation of cross-validation scores to find the best\n",
    "   hyperparameters\n",
    "4. Train a model with the best hyperparameters and evaluate it on the test set"
   ]
  },
  {
   "cell_type": "code",
   "execution_count": null,
   "id": "21ff2119",
   "metadata": {},
   "outputs": [],
   "source": [
    "# Write your code here.\n",
    "from sklearn.model_selection import train_test_split\n",
    "\n",
    "X_train, X_test, y_train, y_test = train_test_split(X, y, random_state=42)\n",
    "\n",
    "parameter_grid = {\n",
    "    \"poly__degree\": [1, 2, 3],\n",
    "    \"ridge__alpha\": [0.01, 0.1, 1, 10],\n",
    "}"
   ]
  },
  {
   "cell_type": "markdown",
   "id": "b7a2d6fb",
   "metadata": {},
   "source": [
    "\n",
    "## Hyperparameters search using a grid\n",
    "\n",
    "Our manual search implements a grid-search: trying every possible parameter\n",
    "combination. Scikit-learn provides `GridSearchCV` to automate this process. During\n",
    "fitting, it performs cross-validation and selects optimal hyperparameters."
   ]
  },
  {
   "cell_type": "code",
   "execution_count": null,
   "id": "1dcf49e5",
   "metadata": {},
   "outputs": [],
   "source": [
    "from sklearn.model_selection import GridSearchCV\n",
    "\n",
    "search_cv = GridSearchCV(model, param_grid=parameter_grid)\n",
    "search_cv.fit(X_train, y_train)"
   ]
  },
  {
   "cell_type": "markdown",
   "id": "9dbde1ec",
   "metadata": {},
   "source": [
    "\n",
    "The `best_params_` attribute shows the optimal parameters found:"
   ]
  },
  {
   "cell_type": "code",
   "execution_count": null,
   "id": "4ae22c66",
   "metadata": {},
   "outputs": [],
   "source": [
    "search_cv.best_params_"
   ]
  },
  {
   "cell_type": "markdown",
   "id": "9a998d70",
   "metadata": {},
   "source": [
    "\n",
    "The `cv_results_` attribute provides details about all hyperparameter combinations\n",
    "tried during fitting:"
   ]
  },
  {
   "cell_type": "code",
   "execution_count": null,
   "id": "c8a31503",
   "metadata": {},
   "outputs": [],
   "source": [
    "cv_results = pd.DataFrame(search_cv.cv_results_)\n",
    "cv_results"
   ]
  },
  {
   "cell_type": "markdown",
   "id": "9e760520",
   "metadata": {},
   "source": [
    "\n",
    "When `refit=True` (default), the search trains a final model using the best\n",
    "parameters. Access this model through `best_estimator_`:"
   ]
  },
  {
   "cell_type": "code",
   "execution_count": null,
   "id": "5f1eb222",
   "metadata": {},
   "outputs": [],
   "source": [
    "search_cv.best_estimator_"
   ]
  },
  {
   "cell_type": "markdown",
   "id": "b321eb36",
   "metadata": {},
   "source": [
    "\n",
    "The `best_estimator_` handles `predict` and `score` calls to `GridSearchCV`:"
   ]
  },
  {
   "cell_type": "code",
   "execution_count": null,
   "id": "70e2e8cb",
   "metadata": {},
   "outputs": [],
   "source": [
    "search_cv.score(X_test, y_test)"
   ]
  },
  {
   "cell_type": "markdown",
   "id": "da5d73d7",
   "metadata": {},
   "source": [
    "\n",
    "**EXERCISE**:\n",
    "\n",
    "`GridSearchCV` behaves like any classifier or regressor. Use `cross_validate` to\n",
    "evaluate the grid-search model we created."
   ]
  },
  {
   "cell_type": "code",
   "execution_count": null,
   "id": "b14eb049",
   "metadata": {},
   "outputs": [],
   "source": [
    "# Write your code here."
   ]
  },
  {
   "cell_type": "markdown",
   "id": "87dadaf4",
   "metadata": {},
   "source": [
    "\n",
    "**QUESTION**:\n",
    "\n",
    "What limitations does the grid-search approach have?"
   ]
  },
  {
   "cell_type": "markdown",
   "id": "4a681882",
   "metadata": {},
   "source": [
    "\n",
    "## Randomized hyperparameters search\n",
    "\n",
    "Grid-search has two main limitations:\n",
    "\n",
    "- It explores only predefined parameter combinations\n",
    "- Adding parameters or values exponentially increases search cost\n",
    "\n",
    "`RandomizedSearchCV` draws parameter values from specified distributions. This allows\n",
    "non-grid exploration of the hyperparameter space with a fixed computational budget."
   ]
  },
  {
   "cell_type": "code",
   "execution_count": null,
   "id": "dbd6fc54",
   "metadata": {},
   "outputs": [],
   "source": [
    "import numpy as np\n",
    "from scipy.stats import loguniform\n",
    "\n",
    "parameter_distributions = {\n",
    "    \"poly__degree\": np.arange(1, 5),\n",
    "    \"ridge__alpha\": loguniform(1, 3),\n",
    "}"
   ]
  },
  {
   "cell_type": "code",
   "execution_count": null,
   "id": "b735af43",
   "metadata": {},
   "outputs": [],
   "source": [
    "from sklearn.model_selection import RandomizedSearchCV\n",
    "\n",
    "search_cv = RandomizedSearchCV(\n",
    "    model,\n",
    "    param_distributions=parameter_distributions,\n",
    "    n_iter=10,\n",
    ")"
   ]
  },
  {
   "cell_type": "code",
   "execution_count": null,
   "id": "d12a6821",
   "metadata": {},
   "outputs": [],
   "source": [
    "cv_results = cross_validate(search_cv, X, y, cv=cv, return_estimator=True)\n",
    "cv_results = pd.DataFrame(cv_results)\n",
    "cv_results"
   ]
  },
  {
   "cell_type": "code",
   "execution_count": null,
   "id": "084a8bc3",
   "metadata": {},
   "outputs": [],
   "source": [
    "for est in cv_results[\"estimator\"]:\n",
    "    print(est.best_params_)"
   ]
  },
  {
   "cell_type": "markdown",
   "id": "a63fe618",
   "metadata": {},
   "source": [
    "\n",
    "## Model with internal hyperparameter tuning\n",
    "\n",
    "Some estimators include efficient hyperparameter selection, more efficient than\n",
    "grid-search. These estimators typically end with `CV` (e.g. `RidgeCV`).\n",
    "\n",
    "**EXERCISE**:\n",
    "\n",
    "1. Create a pipeline with `PolynomialFeatures`, `StandardScaler`, and `Ridge`\n",
    "2. Create a grid-search with this pipeline and tune `alpha` using `np.logspace(-2, 2,\n",
    "   num=50)`\n",
    "3. Fit the grid-search on the training set and time it\n",
    "4. Repeat using `RidgeCV` instead of `Ridge` and remove `GridSearchCV`\n",
    "5. Compare computational performance between approaches"
   ]
  },
  {
   "cell_type": "code",
   "execution_count": null,
   "id": "b8a01c37",
   "metadata": {},
   "outputs": [],
   "source": [
    "# Write your code here."
   ]
  },
  {
   "cell_type": "markdown",
   "id": "ec5e5ccd",
   "metadata": {},
   "source": [
    "\n",
    "## Inspection of hyperparameters in cross-validation\n",
    "\n",
    "When performing search cross-validation inside evaluation cross-validation, different\n",
    "hyperparameter values may emerge for each split. Let's examine this with\n",
    "`GridSearchCV`:"
   ]
  },
  {
   "cell_type": "code",
   "execution_count": null,
   "id": "854150d7",
   "metadata": {},
   "outputs": [],
   "source": [
    "from sklearn.linear_model import RidgeCV\n",
    "\n",
    "inner_model = Pipeline(\n",
    "    [\n",
    "        (\"poly\", PolynomialFeatures()),\n",
    "        (\"scaler\", StandardScaler()),\n",
    "        (\"ridge\", Ridge()),\n",
    "    ]\n",
    ")\n",
    "param_grid = {\"poly__degree\": [1, 2], \"ridge__alpha\": np.logspace(-2, 2, num=10)}\n",
    "model = GridSearchCV(inner_model, param_grid=param_grid, n_jobs=-1)\n",
    "model"
   ]
  },
  {
   "cell_type": "markdown",
   "id": "0dd32052",
   "metadata": {},
   "source": [
    "\n",
    "We run cross-validation and store models from each split by setting\n",
    "`return_estimator=True`:"
   ]
  },
  {
   "cell_type": "code",
   "execution_count": null,
   "id": "c7ed5554",
   "metadata": {},
   "outputs": [],
   "source": [
    "cv_results = cross_validate(model, X, y, cv=cv, return_estimator=True)\n",
    "cv_results = pd.DataFrame(cv_results)\n",
    "cv_results"
   ]
  },
  {
   "cell_type": "markdown",
   "id": "b03295c4",
   "metadata": {},
   "source": [
    "\n",
    "The `estimator` column contains the different estimators. We examine `best_params_`\n",
    "from each `GridSearchCV`:"
   ]
  },
  {
   "cell_type": "code",
   "execution_count": null,
   "id": "8e170b53",
   "metadata": {},
   "outputs": [],
   "source": [
    "for estimator_cv_fold in cv_results[\"estimator\"]:\n",
    "    print(estimator_cv_fold.best_params_)"
   ]
  },
  {
   "cell_type": "markdown",
   "id": "8dbc382f",
   "metadata": {},
   "source": [
    "\n",
    "This inspection reveals the stability of hyperparameter values across folds."
   ]
  }
 ],
 "metadata": {
  "jupytext": {
   "cell_metadata_filter": "-all",
   "main_language": "python",
   "notebook_metadata_filter": "-all"
  }
 },
 "nbformat": 4,
 "nbformat_minor": 5
}
