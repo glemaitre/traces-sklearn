{
 "cells": [
  {
   "cell_type": "markdown",
   "id": "e5ec659e",
   "metadata": {},
   "source": [
    "\n",
    "# Evaluating a predictive model\n",
    "\n",
    "This notebook will:\n",
    "\n",
    "- Introduce linear models for regression tasks\n",
    "- Demonstrate scikit-learn's user API\n",
    "- Explain training and testing error concepts\n",
    "- Cover cross-validation techniques\n",
    "- Compare models against baselines\n",
    "\n",
    "## Linear regression introduction\n",
    "\n",
    "Let's start with linear regression fundamentals. We'll use only NumPy initially,\n",
    "before introducing scikit-learn. First, we load our dataset."
   ]
  },
  {
   "cell_type": "code",
   "execution_count": null,
   "id": "46de4e15",
   "metadata": {},
   "outputs": [],
   "source": [
    "# When using JupyterLite, you will need to uncomment and install the `skrub` package.\n",
    "%pip install skrub\n",
    "import matplotlib.pyplot as plt\n",
    "import skrub\n",
    "skrub.patch_display()  # make nice display for pandas tables"
   ]
  },
  {
   "cell_type": "code",
   "execution_count": null,
   "id": "a07c5beb",
   "metadata": {},
   "outputs": [],
   "source": [
    "import pandas as pd\n",
    "\n",
    "data = pd.read_csv(\"../datasets/penguins_regression.csv\")\n",
    "data"
   ]
  },
  {
   "cell_type": "markdown",
   "id": "9ef11c35",
   "metadata": {},
   "source": [
    "\n",
    "Our dataset contains penguin flipper lengths and body masses. We want to predict a\n",
    "penguin's body mass from its flipper length. Since we predict a continuous value,\n",
    "this is a regression problem.\n",
    "\n",
    "Let's visualize the relationship between these measurements:"
   ]
  },
  {
   "cell_type": "code",
   "execution_count": null,
   "id": "347c123e",
   "metadata": {},
   "outputs": [],
   "source": [
    "from matplotlib import pyplot as plt\n",
    "\n",
    "ax = data.plot.scatter(x=data.columns[0], y=data.columns[1])\n",
    "ax.set_title(\"Can I predict penguins' body mass?\")\n",
    "plt.show()"
   ]
  },
  {
   "cell_type": "markdown",
   "id": "2865baf9",
   "metadata": {},
   "source": [
    "\n",
    "The data shows a clear linear trend - longer flippers correlate with heavier penguins.\n",
    "We'll model this relationship linearly.\n",
    "\n",
    "In this example:\n",
    "\n",
    "- Flipper length serves as our feature (predictor variable)\n",
    "- Body mass is our target (variable to predict)\n",
    "\n",
    "Each (flipper length, body mass) pair forms a sample. We train our model on these\n",
    "feature/target pairs. At prediction time, we use only features to predict potential\n",
    "targets. To evaluate our model, we compare its predictions against known targets.\n",
    "\n",
    "Throughout this notebook, we use:\n",
    "- `X`: feature matrix with shape `(n_samples, n_features)`\n",
    "- `y`: target vector with shape `(n_samples,)`"
   ]
  },
  {
   "cell_type": "code",
   "execution_count": null,
   "id": "066e72d5",
   "metadata": {},
   "outputs": [],
   "source": [
    "X, y = data[[\"Flipper Length (mm)\"]], data[[\"Body Mass (g)\"]]"
   ]
  },
  {
   "cell_type": "markdown",
   "id": "c369773d",
   "metadata": {},
   "source": [
    "\n",
    "We model the X-y relationship linearly as:\n",
    "\n",
    "$$\n",
    "y = X \\beta\n",
    "$$\n",
    "\n",
    "where $\\beta$ represents our model coefficients. For all features, this expands to:\n",
    "\n",
    "$$\n",
    "y = \\beta_0 + \\beta_1 X_1 + \\beta_2 X_2 + ... + \\beta_n X_n\n",
    "$$\n",
    "\n",
    "Here we have only one feature coefficient $\\beta_1$ for flipper length.\n",
    "\n",
    "Finding the optimal $\\beta$ means finding values that minimize prediction error. We\n",
    "calculate $\\beta$ using:\n",
    "\n",
    "$$\n",
    "X^T y = X^T X \\beta\n",
    "$$\n",
    "\n",
    "which gives us:\n",
    "\n",
    "$$\n",
    "\\beta = (X^T X)^{-1} X^T y\n",
    "$$"
   ]
  },
  {
   "cell_type": "markdown",
   "id": "7aad0810",
   "metadata": {},
   "source": [
    "\n",
    "**EXERCISE**\n",
    "\n",
    "1. Use NumPy to find $\\beta$ ($\\beta_0$ and $\\beta_1$) using the normal equation\n",
    "2. Calculate predictions using your $\\beta$ values and X\n",
    "3. Plot the original data (X vs y) and overlay your model's predictions"
   ]
  },
  {
   "cell_type": "code",
   "execution_count": null,
   "id": "66164cd6",
   "metadata": {},
   "outputs": [],
   "source": [
    "# Write your code here."
   ]
  },
  {
   "cell_type": "markdown",
   "id": "5cfe1b3b",
   "metadata": {},
   "source": [
    "\n",
    "## Scikit-learn API introduction\n",
    "\n",
    "Scikit-learn uses Python classes to maintain model state. These classes provide:\n",
    "\n",
    "- A `fit` method to learn parameters\n",
    "- A `predict` method to generate predictions\n",
    "\n",
    "**EXERCISE**\n",
    "\n",
    "Create a Python class that implements the linear model from above with:\n",
    "\n",
    "- A `fit` method to compute $\\beta$\n",
    "- A `predict` method that outputs predictions for input X"
   ]
  },
  {
   "cell_type": "code",
   "execution_count": null,
   "id": "3b40762d",
   "metadata": {},
   "outputs": [],
   "source": [
    "# Write your code here."
   ]
  },
  {
   "cell_type": "markdown",
   "id": "47de797d",
   "metadata": {},
   "source": [
    "\n",
    "Now let's use scikit-learn's built-in `LinearRegression` model instead of our\n",
    "implementation."
   ]
  },
  {
   "cell_type": "code",
   "execution_count": null,
   "id": "6ebb3bbf",
   "metadata": {},
   "outputs": [],
   "source": [
    "from sklearn.linear_model import LinearRegression\n",
    "\n",
    "model = LinearRegression()\n",
    "model.fit(X, y)"
   ]
  },
  {
   "cell_type": "markdown",
   "id": "24ad9a6b",
   "metadata": {},
   "source": [
    "\n",
    "Scikit-learn models store fitted parameters as attributes ending in underscore.\n",
    "Our linear model stores `coef_` and `intercept_`:"
   ]
  },
  {
   "cell_type": "code",
   "execution_count": null,
   "id": "79fef6f3",
   "metadata": {},
   "outputs": [],
   "source": [
    "model.coef_, model.intercept_"
   ]
  },
  {
   "cell_type": "markdown",
   "id": "d99314d1",
   "metadata": {},
   "source": [
    "\n",
    "## Cross-validation for proper model evaluation\n",
    "\n",
    "Let's evaluate our model's performance:"
   ]
  },
  {
   "cell_type": "code",
   "execution_count": null,
   "id": "53608639",
   "metadata": {
    "lines_to_next_cell": 0
   },
   "outputs": [],
   "source": [
    "from sklearn.metrics import r2_score\n",
    "\n",
    "score = r2_score(y, model.predict(X))\n",
    "print(f\"Model score: {score:.2f}\")"
   ]
  },
  {
   "cell_type": "markdown",
   "id": "3142f6ff",
   "metadata": {},
   "source": [
    "\n",
    "This evaluation has a flaw. A model that simply memorizes training data would score\n",
    "perfectly. We need separate training and testing datasets to truly assess how well\n",
    "our model generalizes to new data. The training error measures model fit, while\n",
    "testing error measures generalization ability.\n",
    "\n",
    "Let's split our data into training and testing sets:"
   ]
  },
  {
   "cell_type": "code",
   "execution_count": null,
   "id": "ff215ff1",
   "metadata": {},
   "outputs": [],
   "source": [
    "from sklearn.model_selection import train_test_split\n",
    "\n",
    "X_train, X_test, y_train, y_test = train_test_split(X, y, random_state=42)\n",
    "\n",
    "model.fit(X_train, y_train)\n",
    "model.coef_, model.intercept_"
   ]
  },
  {
   "cell_type": "code",
   "execution_count": null,
   "id": "8aca70c2",
   "metadata": {},
   "outputs": [],
   "source": [
    "train_score = r2_score(y_train, model.predict(X_train))\n",
    "print(f\"Training score: {train_score:.2f}\")"
   ]
  },
  {
   "cell_type": "code",
   "execution_count": null,
   "id": "bdb15e81",
   "metadata": {},
   "outputs": [],
   "source": [
    "test_score = r2_score(y_test, model.predict(X_test))\n",
    "print(f\"Testing score: {test_score:.2f}\")"
   ]
  },
  {
   "cell_type": "markdown",
   "id": "f0496d05",
   "metadata": {},
   "source": [
    "\n",
    "Our model performs slightly worse on test data than training data. For comparison,\n",
    "let's examine a decision tree model which can show more dramatic differences:"
   ]
  },
  {
   "cell_type": "code",
   "execution_count": null,
   "id": "ba687106",
   "metadata": {},
   "outputs": [],
   "source": [
    "from sklearn.tree import DecisionTreeRegressor\n",
    "\n",
    "model = DecisionTreeRegressor(random_state=42)\n",
    "model.fit(X_train, y_train)"
   ]
  },
  {
   "cell_type": "code",
   "execution_count": null,
   "id": "48510d6e",
   "metadata": {},
   "outputs": [],
   "source": [
    "train_score = r2_score(y_train, model.predict(X_train))\n",
    "print(f\"Training score: {train_score:.2f}\")"
   ]
  },
  {
   "cell_type": "code",
   "execution_count": null,
   "id": "a00db7aa",
   "metadata": {},
   "outputs": [],
   "source": [
    "test_score = r2_score(y_test, model.predict(X_test))\n",
    "print(f\"Testing score: {test_score:.2f}\")"
   ]
  },
  {
   "cell_type": "markdown",
   "id": "499e0305",
   "metadata": {},
   "source": [
    "\n",
    "Returning to our linear model: while we see small differences between training and\n",
    "testing scores, we can't determine if these differences are significant or just\n",
    "random variation from our data split. Cross-validation helps us estimate score\n",
    "distributions rather than single points.\n",
    "\n",
    "Cross-validation repeatedly evaluates the model using different train/test splits\n",
    "to account for variation in both fitting and prediction."
   ]
  },
  {
   "cell_type": "code",
   "execution_count": null,
   "id": "d0019120",
   "metadata": {},
   "outputs": [],
   "source": [
    "model = LinearRegression()"
   ]
  },
  {
   "cell_type": "markdown",
   "id": "f576e9d9",
   "metadata": {},
   "source": [
    "\n",
    "Scikit-learn's `cross_validate` function handles this repeated evaluation:"
   ]
  },
  {
   "cell_type": "code",
   "execution_count": null,
   "id": "35aa874a",
   "metadata": {},
   "outputs": [],
   "source": [
    "from sklearn.model_selection import cross_validate\n",
    "from sklearn.model_selection import KFold\n",
    "\n",
    "cv = KFold(n_splits=5, shuffle=True, random_state=42)\n",
    "cv_results = cross_validate(\n",
    "    model, X, y, cv=cv,\n",
    "    scoring=\"r2\",\n",
    "    return_train_score=True,\n",
    ")"
   ]
  },
  {
   "cell_type": "code",
   "execution_count": null,
   "id": "ec083b6a",
   "metadata": {},
   "outputs": [],
   "source": [
    "cv_results = pd.DataFrame(cv_results)\n",
    "cv_results[[\"train_score\", \"test_score\"]]"
   ]
  },
  {
   "cell_type": "code",
   "execution_count": null,
   "id": "a34235c8",
   "metadata": {},
   "outputs": [],
   "source": [
    "cv_results[[\"train_score\", \"test_score\"]].mean()"
   ]
  },
  {
   "cell_type": "code",
   "execution_count": null,
   "id": "31577830",
   "metadata": {},
   "outputs": [],
   "source": [
    "cv_results[[\"train_score\", \"test_score\"]].std()"
   ]
  },
  {
   "cell_type": "markdown",
   "id": "b839ad6f",
   "metadata": {},
   "source": [
    "\n",
    "Our results show similar train and test scores, though test scores vary more.\n",
    "Let's use repeated k-fold cross-validation to get more estimates and visualize\n",
    "the score distributions:"
   ]
  },
  {
   "cell_type": "code",
   "execution_count": null,
   "id": "8852c849",
   "metadata": {},
   "outputs": [],
   "source": [
    "from sklearn.model_selection import RepeatedKFold\n",
    "\n",
    "cv = RepeatedKFold(n_repeats=10, n_splits=3, random_state=42)\n",
    "cv_results = cross_validate(\n",
    "    model, X, y, cv=cv,\n",
    "    scoring=\"r2\",\n",
    "    return_train_score=True\n",
    ")\n",
    "cv_results = pd.DataFrame(cv_results)\n",
    "cv_results[[\"train_score\", \"test_score\"]]"
   ]
  },
  {
   "cell_type": "code",
   "execution_count": null,
   "id": "e80e6b81",
   "metadata": {},
   "outputs": [],
   "source": [
    "ax = cv_results[[\"train_score\", \"test_score\"]].plot.hist(alpha=0.7)\n",
    "ax.set(xlim=(0, 1), title=\"Distribution of the scores with repeated k-fold\")\n",
    "plt.show()"
   ]
  },
  {
   "cell_type": "markdown",
   "id": "c6f8fdab",
   "metadata": {},
   "source": [
    "\n",
    "The similar performance on training and testing sets with low variation indicates\n",
    "our model generalizes well."
   ]
  },
  {
   "cell_type": "markdown",
   "id": "f652e0a1",
   "metadata": {},
   "source": [
    "\n",
    "**EXERCISE**\n",
    "\n",
    "Repeat the cross-validation using `KFold` with `shuffle=False`. Compare and explain\n",
    "the differences from our previous analysis."
   ]
  },
  {
   "cell_type": "code",
   "execution_count": null,
   "id": "ff977245",
   "metadata": {},
   "outputs": [],
   "source": [
    "# Write your code here."
   ]
  },
  {
   "cell_type": "markdown",
   "id": "021ea557",
   "metadata": {},
   "source": [
    "\n",
    "## Baseline model comparison\n",
    "\n",
    "It is common to compare the performance of a new model against simple models.\n",
    "These baseline models do not necessarily have to learn anything from the data.\n",
    "But they provide a reference to compare against.\n",
    "\n",
    "**EXERCISE**\n",
    "\n",
    "Compare your linear model against such a baseline:\n",
    "\n",
    "1. Use cross-validation to get 30+ score estimates\n",
    "2. Try a `DummyRegressor` that predicts the mean target value of the training set\n",
    "3. Use `permutation_test_score` function to estimate the performance of a random model\n",
    "4. Plot test score distributions for all three models"
   ]
  },
  {
   "cell_type": "code",
   "execution_count": null,
   "id": "d9473cc6",
   "metadata": {},
   "outputs": [],
   "source": [
    "# Write your code here."
   ]
  },
  {
   "cell_type": "markdown",
   "id": "f401eaec",
   "metadata": {},
   "source": [
    "\n",
    "## Model uncertainty evaluation\n",
    "\n",
    "Cross-validation evaluates uncertainty in the full fit/predict process by training\n",
    "different models on each cross-validation split.\n",
    "\n",
    "For a single model, we can evaluate prediction uncertainty through bootstrapping:"
   ]
  },
  {
   "cell_type": "code",
   "execution_count": null,
   "id": "3b832933",
   "metadata": {},
   "outputs": [],
   "source": [
    "model = LinearRegression()\n",
    "model.fit(X_train, y_train)"
   ]
  },
  {
   "cell_type": "markdown",
   "id": "a1530881",
   "metadata": {},
   "source": [
    "\n",
    "**EXERCISE**\n",
    "\n",
    "1. Generate model predictions on the test set\n",
    "2. Create 100 bootstrap prediction samples using `np.random.choice`\n",
    "3. Plot the bootstrap sample distribution"
   ]
  },
  {
   "cell_type": "code",
   "execution_count": null,
   "id": "c931e5c1",
   "metadata": {},
   "outputs": [],
   "source": [
    "# Write your code here."
   ]
  }
 ],
 "metadata": {
  "jupytext": {
   "cell_metadata_filter": "-all",
   "main_language": "python",
   "notebook_metadata_filter": "-all"
  }
 },
 "nbformat": 4,
 "nbformat_minor": 5
}
