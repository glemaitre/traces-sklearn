{
 "cells": [
  {
   "cell_type": "markdown",
   "id": "cb7c39fe",
   "metadata": {},
   "source": [
    "\n",
    "# Quantile regression\n",
    "\n",
    "This notebook explores how to predict intervals with available techniques in\n",
    "scikit-learn.\n",
    "\n",
    "We cover a subset of available techniques. For instance, conformal predictions\n",
    "handle this specific task - see packages like MAPIE for broader coverage:\n",
    "https://github.com/scikit-learn-contrib/MAPIE.\n",
    "\n",
    "## Predicting intervals with linear models\n",
    "\n",
    "This section revisits linear models and shows how to predict intervals with\n",
    "quantile regression.\n",
    "\n",
    "First, let's load our penguins dataset for our regression task."
   ]
  },
  {
   "cell_type": "code",
   "execution_count": null,
   "id": "19579347",
   "metadata": {},
   "outputs": [],
   "source": [
    "# When using JupyterLite, uncomment and install the `skrub` package.\n",
    "%pip install skrub\n",
    "import matplotlib.pyplot as plt\n",
    "import skrub\n",
    "\n",
    "skrub.patch_display()"
   ]
  },
  {
   "cell_type": "code",
   "execution_count": null,
   "id": "34e6bd32",
   "metadata": {},
   "outputs": [],
   "source": [
    "import pandas as pd\n",
    "\n",
    "penguins = pd.read_csv(\"../datasets/penguins_regression.csv\")\n",
    "penguins"
   ]
  },
  {
   "cell_type": "markdown",
   "id": "1afdff49",
   "metadata": {},
   "source": [
    "\n",
    "In this dataset, we predict the body mass of a penguin given its flipper\n",
    "length."
   ]
  },
  {
   "cell_type": "code",
   "execution_count": null,
   "id": "603eaa0b",
   "metadata": {},
   "outputs": [],
   "source": [
    "X = penguins[[\"Flipper Length (mm)\"]]\n",
    "y = penguins[\"Body Mass (g)\"]"
   ]
  },
  {
   "cell_type": "markdown",
   "id": "e1eb145c",
   "metadata": {},
   "source": [
    "\n",
    "In our study of linear models, we saw that `LinearRegression` minimizes the mean\n",
    "squared error and predicts the conditional mean of the target.\n",
    "\n",
    "Here, we fit this model and predict several data points between the minimum and\n",
    "maximum flipper length."
   ]
  },
  {
   "cell_type": "code",
   "execution_count": null,
   "id": "63152ed9",
   "metadata": {},
   "outputs": [],
   "source": [
    "from sklearn.linear_model import LinearRegression\n",
    "\n",
    "model_estimate_mean = LinearRegression()\n",
    "model_estimate_mean.fit(X, y)"
   ]
  },
  {
   "cell_type": "code",
   "execution_count": null,
   "id": "2f497939",
   "metadata": {},
   "outputs": [],
   "source": [
    "import numpy as np\n",
    "\n",
    "X_test = pd.DataFrame(\n",
    "    {\"Flipper Length (mm)\": np.linspace(X.min(axis=None), X.max(axis=None), 100)}\n",
    ")\n",
    "y_pred_mean = model_estimate_mean.predict(X_test)"
   ]
  },
  {
   "cell_type": "code",
   "execution_count": null,
   "id": "f7c74e94",
   "metadata": {},
   "outputs": [],
   "source": [
    "_, ax = plt.subplots()\n",
    "penguins.plot.scatter(x=\"Flipper Length (mm)\", y=\"Body Mass (g)\", ax=ax, alpha=0.5)\n",
    "ax.plot(\n",
    "    X_test[\"Flipper Length (mm)\"],\n",
    "    y_pred_mean,\n",
    "    color=\"tab:orange\",\n",
    "    label=\"predicted mean\",\n",
    "    linewidth=3,\n",
    ")\n",
    "ax.legend()\n",
    "plt.show()"
   ]
  },
  {
   "cell_type": "markdown",
   "id": "152235d8",
   "metadata": {},
   "source": [
    "\n",
    "We discussed how mean estimators become sensitive to outliers. Sometimes we\n",
    "prefer a more robust estimator like the median.\n",
    "\n",
    "Here, `QuantileRegressor` minimizes the mean absolute error and predicts the\n",
    "conditional median."
   ]
  },
  {
   "cell_type": "code",
   "execution_count": null,
   "id": "5c673001",
   "metadata": {},
   "outputs": [],
   "source": [
    "from sklearn.linear_model import QuantileRegressor\n",
    "\n",
    "model_estimate_median = QuantileRegressor(quantile=0.5)\n",
    "model_estimate_median.fit(X, y)\n",
    "y_pred_median = model_estimate_median.predict(X_test)"
   ]
  },
  {
   "cell_type": "code",
   "execution_count": null,
   "id": "b84119e7",
   "metadata": {},
   "outputs": [],
   "source": [
    "_, ax = plt.subplots()\n",
    "penguins.plot.scatter(x=\"Flipper Length (mm)\", y=\"Body Mass (g)\", ax=ax, alpha=0.5)\n",
    "ax.plot(\n",
    "    X_test[\"Flipper Length (mm)\"],\n",
    "    y_pred_mean,\n",
    "    color=\"tab:orange\",\n",
    "    label=\"predicted mean\",\n",
    "    linewidth=3,\n",
    ")\n",
    "ax.plot(\n",
    "    X_test[\"Flipper Length (mm)\"],\n",
    "    y_pred_median,\n",
    "    color=\"tab:green\",\n",
    "    label=\"predicted median\",\n",
    "    linewidth=3,\n",
    "    linestyle=\"--\",\n",
    ")\n",
    "ax.legend()\n",
    "plt.show()"
   ]
  },
  {
   "cell_type": "markdown",
   "id": "edecd2d1",
   "metadata": {},
   "source": [
    "\n",
    "For confidence intervals, we want to predict specific quantiles. We generalize\n",
    "quantile regression beyond the median. The pinball loss generalizes the mean\n",
    "absolute error for any quantile.\n",
    "\n",
    "The `quantile` parameter sets which quantile to predict. For an 80% prediction\n",
    "interval, we predict the 10th and 90th percentiles."
   ]
  },
  {
   "cell_type": "code",
   "execution_count": null,
   "id": "a8256796",
   "metadata": {},
   "outputs": [],
   "source": [
    "model_estimate_10 = QuantileRegressor(quantile=0.1)\n",
    "model_estimate_90 = QuantileRegressor(quantile=0.9)\n",
    "\n",
    "model_estimate_10.fit(X, y)\n",
    "model_estimate_90.fit(X, y)\n",
    "\n",
    "y_pred_10 = model_estimate_10.predict(X_test)\n",
    "y_pred_90 = model_estimate_90.predict(X_test)"
   ]
  },
  {
   "cell_type": "code",
   "execution_count": null,
   "id": "f38c1827",
   "metadata": {},
   "outputs": [],
   "source": [
    "_, ax = plt.subplots()\n",
    "penguins.plot.scatter(x=\"Flipper Length (mm)\", y=\"Body Mass (g)\", ax=ax, alpha=0.5)\n",
    "ax.plot(\n",
    "    X_test[\"Flipper Length (mm)\"],\n",
    "    y_pred_mean,\n",
    "    color=\"tab:orange\",\n",
    "    label=\"predicted mean\",\n",
    "    linewidth=3,\n",
    ")\n",
    "ax.plot(\n",
    "    X_test[\"Flipper Length (mm)\"],\n",
    "    y_pred_median,\n",
    "    color=\"tab:green\",\n",
    "    label=\"predicted median\",\n",
    "    linewidth=3,\n",
    "    linestyle=\"--\",\n",
    ")\n",
    "ax.fill_between(\n",
    "    X_test[\"Flipper Length (mm)\"],\n",
    "    y_pred_10,\n",
    "    y_pred_90,\n",
    "    alpha=0.2,\n",
    "    label=\"80% coverage interval\",\n",
    ")\n",
    "ax.legend()\n",
    "plt.show()"
   ]
  },
  {
   "cell_type": "markdown",
   "id": "702b6e53",
   "metadata": {},
   "source": [
    "\n",
    "## Predicting intervals with tree-based models\n",
    "\n",
    "**Exercise**:\n",
    "\n",
    "Now repeat the previous experiment using `HistGradientBoostingRegressor`. Read\n",
    "the documentation to find the parameters that optimize the right loss function.\n",
    "\n",
    "Plot the conditional mean, median and 80% prediction interval."
   ]
  },
  {
   "cell_type": "code",
   "execution_count": null,
   "id": "bfb08b48",
   "metadata": {},
   "outputs": [],
   "source": [
    "# Write your code here."
   ]
  }
 ],
 "metadata": {
  "jupytext": {
   "cell_metadata_filter": "-all",
   "main_language": "python",
   "notebook_metadata_filter": "-all"
  }
 },
 "nbformat": 4,
 "nbformat_minor": 5
}
