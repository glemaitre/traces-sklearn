{
 "cells": [
  {
   "cell_type": "markdown",
   "id": "ae020c5e",
   "metadata": {},
   "source": [
    "\n",
    "# Example notebooks"
   ]
  },
  {
   "cell_type": "code",
   "execution_count": null,
   "id": "91fda481",
   "metadata": {},
   "outputs": [],
   "source": [
    "import sklearn\n",
    "\n",
    "print(sklearn.__version__)"
   ]
  }
 ],
 "metadata": {
  "jupytext": {
   "cell_metadata_filter": "-all",
   "main_language": "python",
   "notebook_metadata_filter": "-all"
  }
 },
 "nbformat": 4,
 "nbformat_minor": 5
}
